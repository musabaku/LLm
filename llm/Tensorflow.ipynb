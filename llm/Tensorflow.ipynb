---
noteId: "8d921330291711ecbba71f7fb5ea1bc2"
tags: []

---

{
 "cells": [
  {
   "cell_type": "markdown",
   "metadata": {},
   "source": [
    "# Demystify the TensorFlow APIs\n",
    "\n",
    "TensorFlow, open-sourced in late 2015, is the most popular deep learning framework. It is for both researchers and developers.\n",
    "\n",
    "TensorFlow is flexible:\n",
    "\n",
    "   - write TensorFlow code in high level APIs such as tf.Keras (recommended), Estimators, or in low level APIs if you need greater control.\n",
    "   - write TensorFlow code in different languages: Python, JavaScript or SWIFT.\n",
    "   - train on CPU, GPU or TPU and deploy to mobile (Android / iOS), Web, Android Things, Raspberry Pi, and AIY kits etc.\n",
    "\n",
    "The flexibility of TensorFlow also brings complexity to its architecture. I often hear questions (from both beginners and expert TensorFlow users) like these “What’s the difference between tf.Keras and the other TensorFlow high level APIs? Which one do I choose?” So to help clarify some of the commonly asked questions:\n",
    "\n",
    "   - tf.Keras or Keras?\n",
    "   - tf.Keras or Estimators?\n",
    "   - Low level TensorFlow APIs or high level APIs?\n",
    "   - How does eager execution fit into all of this?\n",
    "\n",
    "## TensorFlow (Model Building) APIs\n",
    "\n",
    "First let’s start with the various options of the TensorFlow"
   ]
  },
  {
   "cell_type": "markdown",
   "metadata": {},
   "source": [
    "<table style=\"width:100%\">\n",
    "  <tr>\n",
    "    <th><img src=\"photos/tf1.png\" alt=\"Drawing\" style=\"width:800px;\"/></th>\n",
    "  </tr>\n",
    "</table>"
   ]
  },
  {
   "cell_type": "markdown",
   "metadata": {},
   "source": [
    "**Note:** the tf.layers API is going away with TensorFlow 2.0. It is recommended that you use tf.Keras instead of tf.layers API going forward.\n",
    "\n",
    "## tf.keras or Keras?\n",
    "\n",
    "If you are new to deep learning and just getting started, start with tf.Keras which is Keras integrated as part of the TensorFlow core API. Keras continues as an independent open source project.\n",
    "\n",
    "   - No more questions of “do I use Keras or TensorFlow?” because Keras is now part of TensorFlow.\n",
    "   - No need for “Keras with TensorFlow as the backend” because Keras is now part of TensorFlow. You can continue to use Theano and CNTK etc. as Keras backend if you wish.\n",
    "\n",
    "So instead of importing keras as a separate package:\n",
    "\n",
    "    pip install keras\n",
    "    import keras as keras\n",
    "\n",
    "Use keras as part of the TensorFlow core API:\n",
    "\n",
    "    pip install --upgrade tensorflow\n",
    "    import tensorflow as tf\n",
    "    from tensorflow import keras\n",
    "\n",
    "**FAQ: “Why should I use tf.Keras?”** Use tf.Keras instead of Keras for better integration with other TensorFlow APIs such as eager execution and tf.data etc.\n",
    "\n",
    "There are three ways of creating a model in tf.Keras:\n",
    "\n",
    "   - **Sequential API —** with the Sequential API you are able to define and train a image classification model using ~10 lines of code.\n",
    "   - **Functional API —** Check out the tutorial on how to classify Fashion-MNIST with tf.Keras as an example.\n",
    "   - **Model subclassing —** see the TensorFlow Keras Guide on Tensorflow.org for examples on this. There are also lots other great tf.keras tutorials and sample code there.\n",
    "\n",
    "**Protip:** Deep Learning with Python by François Chollet is a great book for learning Keras.\n",
    "\n",
    "## tf.Keras or Estimators?\n",
    "\n",
    "Estimators is another high level TensorFlow API that simplifies the ML process by encapsulating the steps of training, evaluation, prediction, and export for serving.\n",
    "\n",
    "There are two types of estimators: 1) premade Estimators and 2) custom Estimators. According to the official TensorFlow documentation, the difference between the premade and custom Estimator is on the model function:\n",
    "\n",
    "   - Premade Estimator: the model function is already written for you. These are models in a box for you when you don’t want to train your own model.\n",
    "   - Custom Estimator: you need to write your own model function.\n",
    "\n",
    "It is recommended that you explore a premade Estimator to see whether that solves your problem, before writing your own custom Estimator.\n",
    "### Premade Estimators\n",
    "\n",
    "Premade Estimators are subclasses of the tf.estimator.Estimator base class. Examples of premade Estimators include DNNClassifier, LinearClassifier, LinearRegressor etc.\n",
    "### Custom Estimators\n",
    "\n",
    "As of today, there are 3 possibilities for defining the model for creating a custom Estimator:\n",
    "\n",
    "   - Define your model with Keras and then turn it into an estimator.\n",
    "   - Use a module from the TensorFlow Hub, a library for reusable machine learning modules. [Feedback for the TensorFlow team: please provide us with some good examples of how TensorFlow Hub works with tf.Keras.]\n",
    "    Write the function with the layers’s API. See example here. Note: tf.layers is going away with TensorFlow 2.0 but you can use tf.keras.layers instead for this purpose.\n",
    "\n",
    "**FAQ — “Do I need to use the Estimators API?”** In my opinion, go with tf.Keras unless you want to make use of the premade estimators. Note: with the recent TensorFlow 1.13 release, Keras models can now be directly exported to the SavedModel format(tf.contrib.saved_model.save_keras_model()) and used with Tensorflow Serving.\n",
    "\n",
    "## TensorFlow low level APIs\n",
    "\n",
    "With the low level APIs you will be working with Tensors, Constant, Placeholders, Graphs, and session etc. directly. A few learning resources:\n",
    "\n",
    "   - TensorFlow official documentation on low level TensorFlow\n",
    "   - Blogpost TensorFlow: The Confusing Parts, written by Jacob Buckman with details on this.\n",
    "\n",
    "**FAQ: “When do I need to write low level TensorFlow code?”** You only need to work at this low level if you are a student studying deep learning or researcher that needs greater control for your experiments; otherwise stick with the high level APIs.\n",
    "\n",
    "## Eager Execution\n",
    "\n",
    "Eager execution was announced in late 2017 in the blog post Eager Execution: An imperative, define-by-run interface to TensorFlow. It moved out of contrib since TensorFlow 1.7.\n",
    "\n",
    "This is an important feature for TensorFlow that enables you to debug TensorFlow without creating a graph — calling session.run(). Eager execution makes TensorFlow much more intuitive and pythonic. You just need one line of code to enable Eager Execution:\n",
    "\n",
    "    import tensorflow as tf\n",
    "    import tensorflow.contrib.eager as tfe\n",
    "\n",
    "    # Enable eager execution\n",
    "    tfe.enable_eager_execution()\n",
    "\n",
    "Here is a great example of how debugging is made easier with eager mode enabled.\n",
    "\n",
    "**Protip:** use defun to boost performance when in eager mode.\n",
    "\n",
    "Eager execution can be slower than executing the equivalent graph as it can’t benefit from whole-program optimizations on the graph, and also incurs overheads of interpreting Python code. You can use tf.contrib.eager.defun to create graph functions and get a performance boost. For example call defun on your training step like this:\n",
    "\n",
    "    # define train_step function\n",
    "    ...\n",
    "\n",
    "    # use defun on train_step\n",
    "\n",
    "    train_step = tf.contrib.eager.defun(train_step)\n",
    "\n",
    "**Protip:** Use Eager execution for research, and for production you should still use Graph execution.\n",
    "\n",
    "There is a new TensorFlow feature called Autograph that will make the conversion between the eager and graph mode seamlessly — read the blog post by the TensorFlow team. Also with TensorFlow 2.0, eager mode will become the default.\n",
    "\n",
    "**In Summary**, enable eager execution and write your TensorFlow code in tf.Keras. The TensorFlow team is working hard to make the process for us as simple as possible. They also provided an official Guidance on High-level APIs in TensorFlow 2.0 with more details on the topics I discussed above."
   ]
  },
  {
   "cell_type": "markdown",
   "metadata": {},
   "source": [
    "## Tensorflow Graphs\n",
    "\n",
    "[Graphs and Sessions](https://www.tensorflow.org/guide/graphs)\n",
    "\n",
    "[Tensorflow: The Confusing Parts](https://jacobbuckman.com/2018-06-25-tensorflow-the-confusing-parts-1/)\n",
    "\n",
    "[Tensorflow: The Confusing Parts](https://jacobbuckman.com/2018-09-17-tensorflow-the-confusing-parts-2/)\n"
   ]
  },
  {
   "cell_type": "markdown",
   "metadata": {},
   "source": [
    "## Fashion-MNIST with tf.Keras\n",
    "\n",
    "This is a tutorial of how to classify the Fashion-MNIST dataset with tf.keras, using a Convolutional Neural Network (CNN) architecture. In just a few lines of code, you can define and train a model that is able to classify the images with over 90% accuracy, even without much optimization.\n"
   ]
  },
  {
   "cell_type": "markdown",
   "metadata": {},
   "source": [
    "<table style=\"width:100%\">\n",
    "  <tr>\n",
    "    <th><img src=\"photos/tf2.png\" alt=\"Drawing\" style=\"width:800px;\"/></th>\n",
    "  </tr>\n",
    "</table>"
   ]
  },
  {
   "cell_type": "markdown",
   "metadata": {},
   "source": [
    "Fashion-MNIST can be used as drop-in replacement for the original MNIST dataset (10 categories of handwritten digits). It shares the same image size (28x28) and structure of training (60,000) and testing (10,000) splits. It’s great for writing “hello world” tutorials for deep learning.\n",
    "\n",
    "### Data\n",
    "\n",
    "There are ten categories to classify in the fashion_mnist dataset:\n",
    "\n",
    "Label Description \n",
    "0 T-shirt/top\n",
    "1 Trouser \n",
    "2 Pullover \n",
    "3 Dress \n",
    "4 Coat \n",
    "5 Sandal \n",
    "6 Shirt \n",
    "7 Sneaker \n",
    "8 Bag \n",
    "9 Ankle boot\n",
    "### Import the fashion_mnist dataset\n",
    "\n",
    "Let’s import the dataset and prepare it for training, validation and test.\n",
    "\n",
    "Load the fashion_mnist data with the keras.datasets API with just one line of code. Then another line of code to load the train and test dataset. Each gray scale image is 28x28."
   ]
  },
  {
   "cell_type": "code",
   "execution_count": 8,
   "metadata": {},
   "outputs": [
    {
     "name": "stdout",
     "output_type": "stream",
     "text": [
      "x_train shape: (60000, 28, 28) y_train shape: (60000,)\n"
     ]
    }
   ],
   "source": [
    "import tensorflow as tf\n",
    "\n",
    "import numpy as np\n",
    "import matplotlib.pyplot as plt\n",
    "from sklearn.model_selection import train_test_split\n",
    "\n",
    "# Load the fashion-mnist pre-shuffled train data and test data\n",
    "(x_train, y_train), (x_test, y_test) = tf.keras.datasets.fashion_mnist.load_data()\n",
    "\n",
    "print(\"x_train shape:\", x_train.shape, \"y_train shape:\", y_train.shape)"
   ]
  },
  {
   "cell_type": "markdown",
   "metadata": {},
   "source": [
    "### Visualize the data\n",
    "\n",
    "What I like the best about Jupyter Notebook is the visualization. And you can visualize an image from the training data set with matplotlib library’s imshow() to take a look at one of the images from the datasets. Note each image is gray scale in the shape of 28x28."
   ]
  },
  {
   "cell_type": "code",
   "execution_count": 9,
   "metadata": {},
   "outputs": [
    {
     "data": {
      "text/plain": [
       "<matplotlib.image.AxesImage at 0x1a3b593828>"
      ]
     },
     "execution_count": 9,
     "metadata": {},
     "output_type": "execute_result"
    },
    {
     "data": {
      "image/png": "[encoded data removed]",
      "text/plain": [
       "<Figure size 432x288 with 1 Axes>"
      ]
     },
     "metadata": {},
     "output_type": "display_data"
    }
   ],
   "source": [
    "# Show one of the images from the training dataset\n",
    "plt.imshow(x_train[1])"
   ]
  },
  {
   "cell_type": "markdown",
   "metadata": {},
   "source": [
    "### Data normalization\n",
    "\n",
    "We then normalize the data dimensions so that they are of approximately the same scale."
   ]
  },
  {
   "cell_type": "code",
   "execution_count": 10,
   "metadata": {},
   "outputs": [],
   "source": [
    "x_train = x_train.astype('float32') / 255\n",
    "x_test = x_test.astype('float32') / 255"
   ]
  },
  {
   "cell_type": "code",
   "execution_count": 11,
   "metadata": {},
   "outputs": [],
   "source": [
    "# split the training data into train and validate arrays (will be used later)\n",
    "\n",
    "x_train, x_validate, y_train, y_validate = train_test_split(\n",
    "    x_train, y_train, test_size=0.2, random_state=12345,\n",
    ")"
   ]
  },
  {
   "cell_type": "markdown",
   "metadata": {},
   "source": [
    "### Split the data into train/validation/test datasets\n",
    "\n",
    "In the earlier step of importing the date, we had 60,000 datasets for training and 10,000 test datasets. Now we further split the training data into train/validation. Here is how each type of dateset is used in deep learning:\n",
    "\n",
    "   - **Training data —** used for training the model\n",
    "   - **Validation data —** used for tuning the hyperparameters and evaluate the models\n",
    "   - **Test data —** used to test the model after the model has gone through initial vetting by the validation set."
   ]
  },
  {
   "cell_type": "code",
   "execution_count": 30,
   "metadata": {},
   "outputs": [
    {
     "name": "stdout",
     "output_type": "stream",
     "text": [
      "x_train shape: (48000, 28, 28, 1)\n",
      "x_test shape: (10000, 28, 28, 1)\n",
      "x_validate shape: (12000, 28, 28, 1)\n"
     ]
    }
   ],
   "source": [
    "im_rows = 28\n",
    "im_cols = 28\n",
    "batch_size = 64\n",
    "im_shape = (im_rows, im_cols, 1)\n",
    "\n",
    "x_train = x_train.reshape(x_train.shape[0], *im_shape)\n",
    "x_test = x_test.reshape(x_test.shape[0], *im_shape)\n",
    "x_validate = x_validate.reshape(x_validate.shape[0], *im_shape)\n",
    "\n",
    "print('x_train shape: {}'.format(x_train.shape))\n",
    "print('x_test shape: {}'.format(x_test.shape))\n",
    "print('x_validate shape: {}'.format(x_validate.shape))"
   ]
  },
  {
   "cell_type": "markdown",
   "metadata": {},
   "source": [
    "## Model\n",
    "\n",
    "Let’s define the model and train it.\n",
    "## Create the model architecture\n",
    "\n",
    "There are two APIs for defining a model in Keras:\n",
    "\n",
    "   1. Sequential model API\n",
    "   2. Functional API\n",
    "\n",
    "In this tutorial we are using the Sequential model API to create a simple CNN model repeating a few layers of a convolution layer followed by a pooling layer then a dropout layer. \n",
    "\n",
    "Note you only need to define the input data shape with the first layer. The last layers is a dense layer with softmax activation that classifies the 10 categories of data in fashion_mnist."
   ]
  },
  {
   "cell_type": "code",
   "execution_count": 46,
   "metadata": {},
   "outputs": [
    {
     "name": "stdout",
     "output_type": "stream",
     "text": [
      "_________________________________________________________________\n",
      "Layer (type)                 Output Shape              Param #   \n",
      "=================================================================\n",
      "conv2d_6 (Conv2D)            (None, 26, 26, 32)        320       \n",
      "_________________________________________________________________\n",
      "max_pooling2d_4 (MaxPooling2 (None, 13, 13, 32)        0         \n",
      "_________________________________________________________________\n",
      "conv2d_7 (Conv2D)            (None, 11, 11, 64)        18496     \n",
      "_________________________________________________________________\n",
      "max_pooling2d_5 (MaxPooling2 (None, 5, 5, 64)          0         \n",
      "_________________________________________________________________\n",
      "conv2d_8 (Conv2D)            (None, 3, 3, 128)         73856     \n",
      "_________________________________________________________________\n",
      "flatten_5 (Flatten)          (None, 1152)              0         \n",
      "_________________________________________________________________\n",
      "dense_10 (Dense)             (None, 128)               147584    \n",
      "_________________________________________________________________\n",
      "dense_11 (Dense)             (None, 10)                1290      \n",
      "=================================================================\n",
      "Total params: 241,546\n",
      "Trainable params: 241,546\n",
      "Non-trainable params: 0\n",
      "_________________________________________________________________\n"
     ]
    }
   ],
   "source": [
    "# Model\n",
    "model = tf.keras.Sequential()\n",
    "# Add convolution 2D\n",
    "model.add(tf.keras.layers.Conv2D(32, kernel_size=(3, 3),\n",
    "                 activation='relu',\n",
    "                 kernel_initializer='he_normal',\n",
    "                 input_shape=(im_rows, im_cols, 1)))\n",
    "model.add(tf.keras.layers.MaxPooling2D((2, 2)))\n",
    "model.add(tf.keras.layers.Conv2D(64, \n",
    "                 kernel_size=(3, 3), \n",
    "                 activation='relu'))\n",
    "model.add(tf.keras.layers.MaxPooling2D(pool_size=(2, 2)))\n",
    "model.add(tf.keras.layers.Conv2D(128, (3, 3), activation='relu'))\n",
    "model.add(tf.keras.layers.Flatten())\n",
    "model.add(tf.keras.layers.Dense(128, activation='relu'))\n",
    "model.add(tf.keras.layers.Dense(10, activation='softmax'))\n",
    "\n",
    "# Take a look at the model summary\n",
    "model.summary()"
   ]
  },
  {
   "cell_type": "markdown",
   "metadata": {},
   "source": [
    "### Compile the model\n",
    "\n",
    "We use model.compile() to configure the learning process before training the model. This is where you define the type of loss function, optimizer and the metrics evaluated by the model during training and testing."
   ]
  },
  {
   "cell_type": "code",
   "execution_count": 47,
   "metadata": {},
   "outputs": [],
   "source": [
    "model.compile(loss='sparse_categorical_crossentropy',\n",
    "             optimizer='adam',\n",
    "             metrics=['accuracy'])"
   ]
  },
  {
   "cell_type": "markdown",
   "metadata": {},
   "source": [
    "### Train the model\n",
    "\n",
    "We will train the model with a batch_size of 64 and 5 epochs."
   ]
  },
  {
   "cell_type": "code",
   "execution_count": 48,
   "metadata": {},
   "outputs": [
    {
     "name": "stdout",
     "output_type": "stream",
     "text": [
      "Train on 48000 samples, validate on 12000 samples\n",
      "Epoch 1/5\n",
      "48000/48000 [==============================] - 26s 533us/step - loss: 0.5021 - acc: 0.8156 - val_loss: 0.3394 - val_acc: 0.8776\n",
      "Epoch 2/5\n",
      "48000/48000 [==============================] - 25s 530us/step - loss: 0.3220 - acc: 0.8823 - val_loss: 0.2740 - val_acc: 0.9012\n",
      "Epoch 3/5\n",
      "48000/48000 [==============================] - 26s 548us/step - loss: 0.2726 - acc: 0.9002 - val_loss: 0.2676 - val_acc: 0.9032\n",
      "Epoch 4/5\n",
      "48000/48000 [==============================] - 27s 566us/step - loss: 0.2372 - acc: 0.9122 - val_loss: 0.2673 - val_acc: 0.9011\n",
      "Epoch 5/5\n",
      "48000/48000 [==============================] - 27s 567us/step - loss: 0.2089 - acc: 0.9230 - val_loss: 0.2455 - val_acc: 0.9124\n"
     ]
    },
    {
     "data": {
      "text/plain": [
       "<tensorflow.python.keras.callbacks.History at 0xb31b01128>"
      ]
     },
     "execution_count": 48,
     "metadata": {},
     "output_type": "execute_result"
    }
   ],
   "source": [
    "model.fit(x_train, y_train, batch_size=batch_size, epochs=5, verbose=1,\n",
    "         validation_data=(x_validate, y_validate))"
   ]
  },
  {
   "cell_type": "code",
   "execution_count": 51,
   "metadata": {},
   "outputs": [
    {
     "name": "stdout",
     "output_type": "stream",
     "text": [
      "Test loss: 0.2700\n",
      "Test acc: 0.9010\n"
     ]
    }
   ],
   "source": [
    "# Evaluate the model on test set\n",
    "score = model.evaluate(x_test, y_test, verbose=0)\n",
    "\n",
    "# Print test accuracy\n",
    "print('Test loss: {:.4f}'.format(score[0]))\n",
    "print('Test acc: {:.4f}'.format(score[1]))"
   ]
  },
  {
   "cell_type": "code",
   "execution_count": null,
   "metadata": {},
   "outputs": [],
   "source": []
  }
 ],
 "metadata": {
  "kernelspec": {
   "display_name": "Python 3",
   "language": "python",
   "name": "python3"
  },
  "language_info": {
   "codemirror_mode": {
    "name": "ipython",
    "version": 3
   },
   "file_extension": ".py",
   "mimetype": "text/x-python",
   "name": "python",
   "nbconvert_exporter": "python",
   "pygments_lexer": "ipython3",
   "version": "3.8.6"
  }
 },
 "nbformat": 4,
 "nbformat_minor": 2
}
