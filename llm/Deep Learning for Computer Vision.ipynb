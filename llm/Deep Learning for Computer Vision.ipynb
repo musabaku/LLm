{
 "cells": [
  {
   "cell_type": "markdown",
   "metadata": {},
   "source": [
    "# Deep learning for computer vision\n",
    " \n",
    "## Introduction to convnets\n",
    "We’re about to dive into the theory of what convnets are and why they have been so\n",
    "successful at computer vision tasks. But first, let’s take a practical look at a simple convnet\n",
    "example. It uses a convnet to classify MNIST digits, a task we performed in chapter\n",
    "2 using a densely connected network (our test accuracy then was 97.8%). Even though\n",
    "the convnet will be basic, its accuracy will blow out of the water that of the densely\n",
    "connected model from chapter 2.\n",
    "\n",
    "The following lines of code show you what a basic convnet looks like. It’s a stack of\n",
    "Conv2D and MaxPooling2D layers. You’ll see in a minute exactly what they do."
   ]
  },
  {
   "cell_type": "markdown",
   "metadata": {},
   "source": [
    "<table style=\"width:100%\">\n",
    "  <tr>\n",
    "    <th><img src=\"photos/cv1.png\" alt=\"Drawing\" style=\"width:800px;\"/></th>\n",
    "  </tr>\n",
    "</table>"
   ]
  },
  {
   "cell_type": "markdown",
   "metadata": {
    "collapsed": true
   },
   "source": [
    "Importantly, a convnet takes as input tensors of shape (image_height, image_width,\n",
    "image_channels) (not including the batch dimension). In this case, we’ll configure\n",
    "the convnet to process inputs of size (28, 28, 1), which is the format of MNIST\n",
    "images. We’ll do this by passing the argument input_shape=(28, 28, 1) to the first\n",
    "layer.\n",
    "\n",
    "Let’s display the architecture of the convnet so far:"
   ]
  },
  {
   "cell_type": "markdown",
   "metadata": {},
   "source": [
    "<table style=\"width:100%\">\n",
    "  <tr>\n",
    "    <th><img src=\"photos/cv2.png\" alt=\"Drawing\" style=\"width:800px;\"/></th>\n",
    "  </tr>\n",
    "</table>"
   ]
  },
  {
   "cell_type": "markdown",
   "metadata": {},
   "source": [
    "You can see that the output of every Conv2D and MaxPooling2D layer is a 3D tensor of\n",
    "shape (height, width, channels). The width and height dimensions tend to shrink as you go deeper in the network. The number of channels is controlled by the first\n",
    "argument passed to the Conv2D layers (32 or 64).\n",
    "\n",
    "The next step is to feed the last output tensor (of shape (3, 3, 64)) into a densely\n",
    "connected classifier network like those you’re already familiar with: a stack of Dense\n",
    "layers. These classifiers process vectors, which are 1D, whereas the current output is a\n",
    "3D tensor. First we have to flatten the 3D outputs to 1D, and then add a few Dense layers\n",
    "on top."
   ]
  },
  {
   "cell_type": "markdown",
   "metadata": {},
   "source": [
    "<table style=\"width:100%\">\n",
    "  <tr>\n",
    "    <th><img src=\"photos/cv3.png\" alt=\"Drawing\" style=\"width:800px;\"/></th>\n",
    "  </tr>\n",
    "</table>"
   ]
  },
  {
   "cell_type": "markdown",
   "metadata": {},
   "source": [
    " As you can see, the (3, 3, 64) outputs are flattened into vectors of shape (576,)\n",
    "before going through two Dense layers.\n",
    "Now, let’s train the convnet on the MNIST digits. We’ll reuse a lot of the code from\n",
    "the MNIST example in chapter 2."
   ]
  },
  {
   "cell_type": "markdown",
   "metadata": {},
   "source": [
    "<table style=\"width:100%\">\n",
    "  <tr>\n",
    "    <th><img src=\"photos/cv4.png\" alt=\"Drawing\" style=\"width:800px;\"/></th>\n",
    "  </tr>\n",
    "  <tr>\n",
    "    <th><img src=\"photos/cv5.png\" alt=\"Drawing\" style=\"width:800px;\"/></th>\n",
    "  </tr>\n",
    "</table>"
   ]
  },
  {
   "cell_type": "markdown",
   "metadata": {},
   "source": [
    "Whereas the densely connected network from chapter 2 had a test accuracy of 97.8%,\n",
    "the basic convnet has a test accuracy of 99.3%: we decreased the error rate by 68%\n",
    "(relative). Not bad!\n",
    "\n",
    "But why does this simple convnet work so well, compared to a densely connected\n",
    "model? To answer this, let’s dive into what the Conv2D and MaxPooling2D layers do.\n",
    "\n",
    "### The convolution operation\n",
    "The fundamental difference between a densely connected layer and a convolution\n",
    "layer is this: Dense layers learn global patterns in their input feature space (for example,\n",
    "for a MNIST digit, patterns involving all pixels), whereas convolution layers learn\n",
    "local patterns (see figure 5.1): in the case of images, patterns found in small 2D windows\n",
    "of the inputs. In the previous example, these windows were all 3 × 3."
   ]
  },
  {
   "cell_type": "markdown",
   "metadata": {},
   "source": [
    "<table style=\"width:100%\">\n",
    "  <tr>\n",
    "    <th><img src=\"photos/cv6.png\" alt=\"Drawing\" style=\"width:800px;\"/></th>\n",
    "  </tr>\n",
    "</table>"
   ]
  },
  {
   "cell_type": "markdown",
   "metadata": {},
   "source": [
    "This key characteristic gives convnets two interesting properties:\n",
    "- The patterns they learn are translation invariant. After learning a certain pattern in the lower-right corner of a picture, a convnet can recognize it anywhere: for example, in the upper-left corner. A densely connected network would have to learn the pattern a new if it appeared at a new location. This makes convnets data efficient when processing images (because the visual world is fundamentally translation invariant): they need fewer training samples to learn representations that have generalization power.\n",
    "- They can learn spatial hierarchies of patterns (see figure 5.2). A first convolution layer will learn small local patterns such as edges, a second convolution layer will learn larger patterns made of the features of the first layers, and so on. This allows convnets to efficiently learn increasingly complex and abstract visual concepts (because the visual world is fundamentally spatially hierarchical)."
   ]
  },
  {
   "cell_type": "markdown",
   "metadata": {},
   "source": [
    "<table style=\"width:100%\">\n",
    "  <tr>\n",
    "    <th><img src=\"photos/cv7.png\" alt=\"Drawing\" style=\"width:800px;\"/></th>\n",
    "  </tr>\n",
    "</table>"
   ]
  },
  {
   "cell_type": "markdown",
   "metadata": {},
   "source": [
    "Convolutions operate over 3D tensors, called feature maps, with two spatial axes (height\n",
    "and width) as well as a depth axis (also called the channels axis). For an RGB image, the\n",
    "dimension of the depth axis is 3, because the image has three color channels: red,\n",
    "green, and blue. For a black-and-white picture, like the MNIST digits, the depth is 1\n",
    "(levels of gray). The convolution operation extracts patches from its input feature\n",
    "map and applies the same transformation to all of these patches, producing an output\n",
    "feature map. This output feature map is still a 3D tensor: it has a width and a height. Its\n",
    "depth can be arbitrary, because the output depth is a parameter of the layer, and the different channels in that depth axis no longer stand for specific colors as in RGB\n",
    "input; rather, they stand for filters. Filters encode specific aspects of the input data: at a\n",
    "high level, a single filter could encode the concept “presence of a face in the input,”\n",
    "for instance.\n",
    "\n",
    "In the MNIST example, the first convolution layer takes a feature map of size (28,\n",
    "28, 1) and outputs a feature map of size (26, 26, 32): it computes 32 filters over its\n",
    "input. Each of these 32 output channels contains a 26 × 26 grid of values, which is a\n",
    "response map of the filter over the input, indicating the response of that filter pattern at\n",
    "different locations in the input (see figure 5.3). That is what the term feature map\n",
    "means: every dimension in the depth axis is a feature (or filter), and the 2D tensor\n",
    "output[:, :, n] is the 2D spatial map of the response of this filter over the input."
   ]
  },
  {
   "cell_type": "markdown",
   "metadata": {},
   "source": [
    "<table style=\"width:100%\">\n",
    "  <tr>\n",
    "    <th><img src=\"photos/cv8.png\" alt=\"Drawing\" style=\"width:800px;\"/></th>\n",
    "  </tr>\n",
    "</table>"
   ]
  },
  {
   "cell_type": "markdown",
   "metadata": {},
   "source": [
    "Convolutions are defined by two key parameters:\n",
    "- Size of the patches extracted from the inputs—These are typically 3 × 3 or 5 × 5. In the example, they were 3 × 3, which is a common choice.\n",
    "- Depth of the output feature map—The number of filters computed by the convolution. The example started with a depth of 32 and ended with a depth of 64.\n",
    "\n",
    "In Keras Conv2D layers, these parameters are the first arguments passed to the layer:\n",
    "Conv2D(output_depth, (window_height, window_width)).\n",
    "\n",
    "A convolution works by sliding these windows of size 3 × 3 or 5 × 5 over the 3D input\n",
    "feature map, stopping at every possible location, and extracting the 3D patch of surrounding\n",
    "features (shape (window_height, window_width, input_depth)). Each\n",
    "such 3D patch is then transformed (via a tensor product with the same learned weight\n",
    "matrix, called the convolution kernel) into a 1D vector of shape (output_depth,). All of\n",
    "these vectors are then spatially reassembled into a 3D output map of shape (height,\n",
    "width, output_depth). Every spatial location in the output feature map corresponds\n",
    "to the same location in the input feature map (for example, the lower-right corner of\n",
    "the output contains information about the lower-right corner of the input). For\n",
    "instance, with 3 × 3 windows, the vector output[i, j, :] comes from the 3D patch\n",
    "input[i-1:i+1, j-1:j+1, :]. The full process is detailed in figure 5.4."
   ]
  },
  {
   "cell_type": "markdown",
   "metadata": {},
   "source": [
    "<table style=\"width:100%\">\n",
    "  <tr>\n",
    "    <th><img src=\"photos/cv9.png\" alt=\"Drawing\" style=\"width:800px;\"/></th>\n",
    "  </tr>\n",
    "</table>"
   ]
  },
  {
   "cell_type": "markdown",
   "metadata": {},
   "source": [
    "Note that the output width and height may differ from the input width and height.\n",
    "They may differ for two reasons:\n",
    "- Border effects, which can be countered by padding the input feature map\n",
    "- The use of strides, which I’ll define in a second\n",
    "\n",
    "Let’s take a deeper look at these notions.\n",
    "\n",
    "#### UNDERSTANDING BORDER EFFECTS AND PADDING\n",
    "Consider a 5 × 5 feature map (25 tiles total). There are only 9 tiles around which you\n",
    "can center a 3 × 3 window, forming a 3 × 3 grid (see figure 5.5). Hence, the output feature\n",
    "map will be 3 × 3. It shrinks a little: by exactly two tiles alongside each dimension,\n",
    "in this case. You can see this border effect in action in the earlier example: you start\n",
    "with 28 × 28 inputs, which become 26 × 26 after the first convolution layer."
   ]
  },
  {
   "cell_type": "markdown",
   "metadata": {},
   "source": [
    "<table style=\"width:100%\">\n",
    "  <tr>\n",
    "    <th><img src=\"photos/cv10.png\" alt=\"Drawing\" style=\"width:800px;\"/></th>\n",
    "  </tr>\n",
    "</table>"
   ]
  },
  {
   "cell_type": "markdown",
   "metadata": {},
   "source": [
    "If you want to get an output feature map with the same spatial dimensions as the\n",
    "input, you can use padding. Padding consists of adding an appropriate number of rows\n",
    "and columns on each side of the input feature map so as to make it possible to fit center\n",
    "convolution windows around every input tile. For a 3 × 3 window, you add one column\n",
    "on the right, one column on the left, one row at the top, and one row at the\n",
    "bottom. For a 5 × 5 window, you add two rows (see figure 5.6)."
   ]
  },
  {
   "cell_type": "markdown",
   "metadata": {},
   "source": [
    "<table style=\"width:100%\">\n",
    "  <tr>\n",
    "    <th><img src=\"photos/cv11.png\" alt=\"Drawing\" style=\"width:800px;\"/></th>\n",
    "  </tr>\n",
    "</table>"
   ]
  },
  {
   "cell_type": "markdown",
   "metadata": {},
   "source": [
    "In Conv2D layers, padding is configurable via the padding argument, which takes two\n",
    "values: \"valid\", which means no padding (only valid window locations will be used);\n",
    "and \"same\", which means “pad in such a way as to have an output with the same width\n",
    "and height as the input.” The padding argument defaults to \"valid\".\n",
    "\n",
    "#### UNDERSTANDING CONVOLUTION STRIDES\n",
    "The other factor that can influence output size is the notion of strides. The description\n",
    "of convolution so far has assumed that the center tiles of the convolution windows are\n",
    "all contiguous. But the distance between two successive windows is a parameter of the\n",
    "convolution, called its stride, which defaults to 1. It’s possible to have strided convolutions:\n",
    "convolutions with a stride higher than 1. In figure 5.7, you can see the patches\n",
    "extracted by a 3 × 3 convolution with stride 2 over a 5 × 5 input (without padding)."
   ]
  },
  {
   "cell_type": "markdown",
   "metadata": {},
   "source": [
    "<table style=\"width:100%\">\n",
    "  <tr>\n",
    "    <th><img src=\"photos/cv12.png\" alt=\"Drawing\" style=\"width:800px;\"/></th>\n",
    "  </tr>\n",
    "</table>"
   ]
  },
  {
   "cell_type": "markdown",
   "metadata": {},
   "source": [
    "Using stride 2 means the width and height of the feature map are downsampled by a\n",
    "factor of 2 (in addition to any changes induced by border effects). Strided convolutions\n",
    "are rarely used in practice, although they can come in handy for some types of\n",
    "models; it’s good to be familiar with the concept.\n",
    "To downsample feature maps, instead of strides, we tend to use the max-pooling\n",
    "operation, which you saw in action in the first convnet example. Let’s look at it in\n",
    "more depth.\n",
    "\n",
    "### The max-pooling operation\n",
    "In the convnet example, you may have noticed that the size of the feature maps is\n",
    "halved after every MaxPooling2D layer. For instance, before the first MaxPooling2D layers,\n",
    "the feature map is 26 × 26, but the max-pooling operation halves it to 13 × 13.\n",
    "That’s the role of max pooling: to aggressively downsample feature maps, much like\n",
    "strided convolutions.\n",
    "\n",
    "Max pooling consists of extracting windows from the input feature maps and outputting\n",
    "the max value of each channel. It’s conceptually similar to convolution, except\n",
    "that instead of transforming local patches via a learned linear transformation (the convolution\n",
    "kernel), they’re transformed via a hardcoded max tensor operation. A big difference\n",
    "from convolution is that max pooling is usually done with 2 × 2 windows and stride 2, in order to downsample the feature maps by a factor of 2. On the other hand,\n",
    "convolution is typically done with 3 × 3 windows and no stride (stride 1).\n",
    "Why downsample feature maps this way? Why not remove the max-pooling layers\n",
    "and keep fairly large feature maps all the way up? Let’s look at this option. The convolutional\n",
    "base of the model would then look like this:"
   ]
  },
  {
   "cell_type": "markdown",
   "metadata": {},
   "source": [
    "<table style=\"width:100%\">\n",
    "  <tr>\n",
    "    <th><img src=\"photos/cv13.png\" alt=\"Drawing\" style=\"width:800px;\"/></th>\n",
    "  </tr>\n",
    "</table>"
   ]
  },
  {
   "cell_type": "markdown",
   "metadata": {},
   "source": [
    "What’s wrong with this setup? Two things:\n",
    "- It isn’t conducive to learning a spatial hierarchy of features. The 3 × 3 windows in the third layer will only contain information coming from 7 × 7 windows in the initial input. The high-level patterns learned by the convnet will still be very small with regard to the initial input, which may not be enough to learn to classify digits (try recognizing a digit by only looking at it through windows that are 7 × 7 pixels!). We need the features from the last convolution layer to contain information about the totality of the input.\n",
    "- The final feature map has 22 × 22 × 64 = 30,976 total coefficients per sample. This is huge. If you were to flatten it to stick a Dense layer of size 512 on top, that layer would have 15.8 million parameters. This is far too large for such a small model and would result in intense overfitting.\n",
    "\n",
    "In short, the reason to use downsampling is to reduce the number of feature-map\n",
    "coefficients to process, as well as to induce spatial-filter hierarchies by making successive\n",
    "convolution layers look at increasingly large windows (in terms of the fraction of\n",
    "the original input they cover).\n",
    "\n",
    "Note that max pooling isn’t the only way you can achieve such downsampling. As\n",
    "you already know, you can also use strides in the prior convolution layer. And you can use average pooling instead of max pooling, where each local input patch is transformed\n",
    "by taking the average value of each channel over the patch, rather than the\n",
    "max. But max pooling tends to work better than these alternative solutions. In a nutshell,\n",
    "the reason is that features tend to encode the spatial presence of some pattern\n",
    "or concept over the different tiles of the feature map (hence, the term feature map),\n",
    "and it’s more informative to look at the maximal presence of different features than at\n",
    "their average presence. So the most reasonable subsampling strategy is to first produce\n",
    "dense maps of features (via unstrided convolutions) and then look at the maximal\n",
    "activation of the features over small patches, rather than looking at sparser windows of\n",
    "the inputs (via strided convolutions) or averaging input patches, which could cause\n",
    "you to miss or dilute feature-presence information.\n",
    "At this point, you should understand the basics of convnets—feature maps, convolution,\n",
    "and max pooling—and you know how to build a small convnet to solve a toy\n",
    "problem such as MNIST digits classification. Now let’s move on to more useful, practical\n",
    "applications.\n",
    "\n",
    "## Training a convnet from scratch on a small dataset\n",
    "Having to train an image-classification model using very little data is a common situation,\n",
    "which you’ll likely encounter in practice if you ever do computer vision in a\n",
    "professional context. A “few” samples can mean anywhere from a few hundred to a\n",
    "few tens of thousands of images. As a practical example, we’ll focus on classifying\n",
    "images as dogs or cats, in a dataset containing 4,000 pictures of cats and dogs (2,000\n",
    "cats, 2,000 dogs). We’ll use 2,000 pictures for training—1,000 for validation, and\n",
    "1,000 for testing.\n",
    "\n",
    "In this section, we’ll review one basic strategy to tackle this problem: training a new\n",
    "model from scratch using what little data you have. You’ll start by naively training a\n",
    "small convnet on the 2,000 training samples, without any regularization, to set a baseline\n",
    "for what can be achieved. This will get you to a classification accuracy of 71%. At\n",
    "that point, the main issue will be overfitting. Then we’ll introduce data augmentation, a\n",
    "powerful technique for mitigating overfitting in computer vision. By using data augmentation,\n",
    "you’ll improve the network to reach an accuracy of 82%.\n",
    "In the next section, we’ll review two more essential techniques for applying deep\n",
    "learning to small datasets: feature extraction with a pretrained network (which will get you\n",
    "to an accuracy of 90% to 96%) and fine-tuning a pretrained network (this will get you to a\n",
    "final accuracy of 97%). Together, these three strategies—training a small model from\n",
    "scratch, doing feature extraction using a pretrained model, and fine-tuning a pretrained\n",
    "model—will constitute your future toolbox for tackling the problem of performing\n",
    "image classification with small datasets.\n",
    "\n",
    "### The relevance of deep learning for small-data problems\n",
    "You’ll sometimes hear that deep learning only works when lots of data is available.\n",
    "This is valid in part: one fundamental characteristic of deep learning is that it can find\n",
    "interesting features in the training data on its own, without any need for manual feature\n",
    "engineering, and this can only be achieved when lots of training examples are\n",
    "available. This is especially true for problems where the input samples are very highdimensional,\n",
    "like images.\n",
    "\n",
    "But what constitutes lots of samples is relative—relative to the size and depth of the\n",
    "network you’re trying to train, for starters. It isn’t possible to train a convnet to solve a\n",
    "complex problem with just a few tens of samples, but a few hundred can potentially\n",
    "suffice if the model is small and well regularized and the task is simple. Because convnets\n",
    "learn local, translation-invariant features, they’re highly data efficient on perceptual\n",
    "problems. Training a convnet from scratch on a very small image dataset will still\n",
    "yield reasonable results despite a relative lack of data, without the need for any custom\n",
    "feature engineering. You’ll see this in action in this section.\n",
    "What’s more, deep-learning models are by nature highly repurposable: you can\n",
    "take, say, an image-classification or speech-to-text model trained on a large-scale dataset\n",
    "and reuse it on a significantly different problem with only minor changes. Specifically, in the case of computer vision, many pretrained models (usually trained on the Image-\n",
    "Net dataset) are now publicly available for download and can be used to bootstrap powerful\n",
    "vision models out of very little data. That’s what you’ll do in the next section. Let’s\n",
    "start by getting your hands on the data.\n",
    "\n",
    "### Downloading the data\n",
    "The Dogs vs. Cats dataset that you’ll use isn’t packaged with Keras. It was made available\n",
    "by Kaggle as part of a computer-vision competition in late 2013, back when\n",
    "convnets weren’t mainstream. You can download the original dataset from www.kaggle\n",
    ".com/c/dogs-vs-cats/data (you’ll need to create a Kaggle account if you don’t already\n",
    "have one—don’t worry, the process is painless).\n",
    "\n",
    "The pictures are medium-resolution color JPEGs. Figure 5.8 shows some examples."
   ]
  },
  {
   "cell_type": "markdown",
   "metadata": {},
   "source": [
    "<table style=\"width:100%\">\n",
    "  <tr>\n",
    "    <th><img src=\"photos/cv14.png\" alt=\"Drawing\" style=\"width:800px;\"/></th>\n",
    "  </tr>\n",
    "</table>"
   ]
  },
  {
   "cell_type": "markdown",
   "metadata": {},
   "source": [
    "Unsurprisingly, the dogs-versus-cats Kaggle competition in 2013 was won by entrants\n",
    "who used convnets. The best entries achieved up to 95% accuracy. In this example,\n",
    "you’ll get fairly close to this accuracy (in the next section), even though you’ll train\n",
    "your models on less than 10% of the data that was available to the competitors.\n",
    "\n",
    "This dataset contains 25,000 images of dogs and cats (12,500 from each class) and\n",
    "is 543 MB (compressed). After downloading and uncompressing it, you’ll create a new\n",
    "dataset containing three subsets: a training set with 1,000 samples of each class, a validation\n",
    "set with 500 samples of each class, and a test set with 500 samples of each class.\n",
    "\n"
   ]
  },
  {
   "cell_type": "markdown",
   "metadata": {},
   "source": [
    "<table style=\"width:100%\">\n",
    "  <tr>\n",
    "    <th><img src=\"photos/cv15.png\" alt=\"Drawing\" style=\"width:800px;\"/></th>\n",
    "  </tr>\n",
    "  <tr>\n",
    "    <th><img src=\"photos/cv16.png\" alt=\"Drawing\" style=\"width:800px;\"/></th>\n",
    "  </tr>\n",
    "\n",
    "\n",
    "</table>"
   ]
  },
  {
   "cell_type": "markdown",
   "metadata": {},
   "source": [
    "So you do indeed have 2,000 training images, 1,000 validation images, and 1,000 test\n",
    "images. Each split contains the same number of samples from each class: this is a balanced\n",
    "binary-classification problem, which means classification accuracy will be an\n",
    "appropriate measure of success.\n",
    "\n",
    "### Building your network\n",
    "You built a small convnet for MNIST in the previous example, so you should be familiar\n",
    "with such convnets. You’ll reuse the same general structure: the convnet will be a\n",
    "stack of alternated Conv2D (with relu activation) and MaxPooling2D layers.\n",
    "But because you’re dealing with bigger images and a more complex problem, you’ll\n",
    "make your network larger, accordingly: it will have one more Conv2D + MaxPooling2D\n",
    "stage. This serves both to augment the capacity of the network and to further reduce\n",
    "the size of the feature maps so they aren’t overly large when you reach the Flatten\n",
    "layer. Here, because you start from inputs of size 150 × 150 (a somewhat arbitrary\n",
    "choice), you end up with feature maps of size 7 × 7 just before the Flatten layer. \n",
    "\n",
    "NOTE The depth of the feature maps progressively increases in the network\n",
    "(from 32 to 128), whereas the size of the feature maps decreases (from 148 ×\n",
    "148 to 7 × 7). This is a pattern you’ll see in almost all convnets.\n",
    "\n",
    "Because you’re attacking a binary-classification problem, you’ll end the network with a\n",
    "single unit (a Dense layer of size 1) and a sigmoid activation. This unit will encode the\n",
    "probability that the network is looking at one class or the other."
   ]
  },
  {
   "cell_type": "markdown",
   "metadata": {},
   "source": [
    "<table style=\"width:100%\">\n",
    "  <tr>\n",
    "    <th><img src=\"photos/cv17.png\" alt=\"Drawing\" style=\"width:800px;\"/></th>\n",
    "  </tr>\n",
    "</table>"
   ]
  },
  {
   "cell_type": "markdown",
   "metadata": {},
   "source": [
    "<table style=\"width:100%\">\n",
    "  <tr>\n",
    "    <th><img src=\"photos/cv18.png\" alt=\"Drawing\" style=\"width:800px;\"/></th>\n",
    "  </tr>\n",
    "</table>"
   ]
  },
  {
   "cell_type": "markdown",
   "metadata": {},
   "source": [
    "### Data preprocessing\n",
    "As you know by now, data should be formatted into appropriately preprocessed floatingpoint\n",
    "tensors before being fed into the network. Currently, the data sits on a drive as\n",
    "JPEG files, so the steps for getting it into the network are roughly as follows:\n",
    "\n",
    "1. Read the picture files.\n",
    "2. Decode the JPEG content to RGB grids of pixels.\n",
    "3. Convert these into floating-point tensors.\n",
    "4. Rescale the pixel values (between 0 and 255) to the [0, 1] interval (as you know, neural networks prefer to deal with small input values).\n",
    "\n",
    "It may seem a bit daunting, but fortunately Keras has utilities to take care of these\n",
    "steps automatically. Keras has a module with image-processing helper tools, located at\n",
    "keras.preprocessing.image. In particular, it contains the class ImageDataGenerator,\n",
    "which lets you quickly set up Python generators that can automatically turn image files\n",
    "on disk into batches of preprocessed tensors. This is what you’ll use here."
   ]
  },
  {
   "cell_type": "markdown",
   "metadata": {},
   "source": [
    "<table style=\"width:100%\">\n",
    "  <tr>\n",
    "    <th><img src=\"photos/cv20.png\" alt=\"Drawing\" style=\"width:800px;\"/></th>\n",
    "  </tr>\n",
    "   <tr>\n",
    "    <th><img src=\"photos/cv21.png\" alt=\"Drawing\" style=\"width:600px;\"/></th>\n",
    "  </tr>\n",
    "</table>"
   ]
  },
  {
   "cell_type": "markdown",
   "metadata": {},
   "source": [
    "Let’s look at the output of one of these generators: it yields batches of 150 × 150 RGB\n",
    "images (shape (20, 150, 150, 3)) and binary labels (shape (20,)). There are 20 samples\n",
    "in each batch (the batch size). Note that the generator yields these batches indefinitely:\n",
    "it loops endlessly over the images in the target folder. For this reason, you need\n",
    "to break the iteration loop at some point:"
   ]
  },
  {
   "cell_type": "markdown",
   "metadata": {},
   "source": [
    "<table style=\"width:100%\">\n",
    "  <tr>\n",
    "    <th><img src=\"photos/cv22.png\" alt=\"Drawing\" style=\"width:800px;\"/></th>\n",
    "  </tr>\n",
    "</table>"
   ]
  },
  {
   "cell_type": "markdown",
   "metadata": {},
   "source": [
    "Let’s fit the model to the data using the generator. You do so using the fit_generator\n",
    "method, the equivalent of fit for data generators like this one. It expects as its first\n",
    "argument a Python generator that will yield batches of inputs and targets indefinitely,\n",
    "like this one does. Because the data is being generated endlessly, the Keras model\n",
    "needs to know how many samples to draw from the generator before declaring an\n",
    "epoch over. This is the role of the steps_per_epoch argument: after having drawn\n",
    "steps_per_epoch batches from the generator—that is, after having run for steps_per_epoch gradient descent steps—the fitting process will go to the next\n",
    "epoch. In this case, batches are 20 samples, so it will take 100 batches until you see\n",
    "your target of 2,000 samples.\n",
    "\n",
    "When using fit_generator, you can pass a validation_data argument, much as\n",
    "with the fit method. It’s important to note that this argument is allowed to be a data\n",
    "generator, but it could also be a tuple of Numpy arrays. If you pass a generator as\n",
    "validation_data, then this generator is expected to yield batches of validation data\n",
    "endlessly; thus you should also specify the validation_steps argument, which tells\n",
    "the process how many batches to draw from the validation generator for evaluation."
   ]
  },
  {
   "cell_type": "markdown",
   "metadata": {},
   "source": [
    "<table style=\"width:100%\">\n",
    "  <tr>\n",
    "    <th><img src=\"photos/cv23.png\" alt=\"Drawing\" style=\"width:800px;\"/></th>\n",
    "  </tr>\n",
    "</table>"
   ]
  },
  {
   "cell_type": "markdown",
   "metadata": {},
   "source": [
    "<table style=\"width:100%\">\n",
    "  <tr>\n",
    "    <th><img src=\"photos/cv24.png\" alt=\"Drawing\" style=\"width:800px;\"/></th>\n",
    "  </tr>\n",
    "</table>"
   ]
  },
  {
   "cell_type": "markdown",
   "metadata": {},
   "source": [
    "These plots are characteristic of overfitting. The training accuracy increases linearly\n",
    "over time, until it reaches nearly 100%, whereas the validation accuracy stalls at 70–72%.\n",
    "The validation loss reaches its minimum after only five epochs and then stalls, whereas\n",
    "the training loss keeps decreasing linearly until it reaches nearly 0.\n",
    "Because you have relatively few training samples (2,000), overfitting will be your\n",
    "number-one concern. You already know about a number of techniques that can help\n",
    "mitigate overfitting, such as dropout and weight decay (L2 regularization). We’re now\n",
    "going to work with a new one, specific to computer vision and used almost universally\n",
    "when processing images with deep-learning models: data augmentation.\n",
    "\n",
    "### Using data augmentation\n",
    "Overfitting is caused by having too few samples to learn from, rendering you unable\n",
    "to train a model that can generalize to new data. Given infinite data, your model These plots are characteristic of overfitting. The training accuracy increases linearly\n",
    "over time, until it reaches nearly 100%, whereas the validation accuracy stalls at 70–72%.\n",
    "The validation loss reaches its minimum after only five epochs and then stalls, whereas\n",
    "the training loss keeps decreasing linearly until it reaches nearly 0.\n",
    "\n",
    "Because you have relatively few training samples (2,000), overfitting will be your\n",
    "number-one concern. You already know about a number of techniques that can help\n",
    "mitigate overfitting, such as dropout and weight decay (L2 regularization). We’re now\n",
    "going to work with a new one, specific to computer vision and used almost universally\n",
    "when processing images with deep-learning models: data augmentation.\n",
    "\n",
    "### Using data augmentation\n",
    "Overfitting is caused by having too few samples to learn from, rendering you unable\n",
    "to train a model that can generalize to new data. Given infinite data, your model"
   ]
  },
  {
   "cell_type": "markdown",
   "metadata": {},
   "source": [
    "<table style=\"width:100%\">\n",
    "  <tr>\n",
    "    <th><img src=\"photos/cv25.png\" alt=\"Drawing\" style=\"width:800px;\"/></th>\n",
    "  </tr>\n",
    "</table>"
   ]
  },
  {
   "cell_type": "markdown",
   "metadata": {},
   "source": [
    "These are just a few of the options available (for more, see the Keras documentation).\n",
    "Let’s quickly go over this code:\n",
    "- rotation_range is a value in degrees (0–180), a range within which to randomly rotate pictures.\n",
    "- width_shift and height_shift are ranges (as a fraction of total width or height) within which to randomly translate pictures vertically or horizontally.\n",
    "- shear_range is for randomly applying shearing transformations.\n",
    "- zoom_range is for randomly zooming inside pictures.\n",
    "- horizontal_flip is for randomly flipping half the images horizontally—relevant when there are no assumptions of horizontal asymmetry (for example, real-world pictures).\n",
    "- fill_mode is the strategy used for filling in newly created pixels, which can appear after a rotation or a width/height shift.\n",
    "\n",
    "Let’s look at the augmented images (see figure 5.11)."
   ]
  },
  {
   "cell_type": "markdown",
   "metadata": {},
   "source": [
    "<table style=\"width:100%\">\n",
    "  <tr>\n",
    "    <th><img src=\"photos/cv26.png\" alt=\"Drawing\" style=\"width:800px;\"/></th>\n",
    "  </tr>\n",
    "    <tr>\n",
    "    <th><img src=\"photos/cv27.png\" alt=\"Drawing\" style=\"width:800px;\"/></th>\n",
    "  </tr>\n",
    "</table>"
   ]
  },
  {
   "cell_type": "markdown",
   "metadata": {},
   "source": [
    " If you train a new network using this data-augmentation configuration, the network\n",
    "will never see the same input twice. But the inputs it sees are still heavily intercorrelated,\n",
    "because they come from a small number of original images—you can’t produce\n",
    "new information, you can only remix existing information. As such, this may not\n",
    "be enough to completely get rid of overfitting. To further fight overfitting, you’ll also\n",
    "add a Dropout layer to your model, right before the densely connected classifier."
   ]
  },
  {
   "cell_type": "markdown",
   "metadata": {},
   "source": [
    "<table style=\"width:100%\">\n",
    "  <tr>\n",
    "    <th><img src=\"photos/cv28.png\" alt=\"Drawing\" style=\"width:900px;\"/></th>\n",
    "  </tr>\n",
    "  <tr>\n",
    "    <th><img src=\"photos/cv29.png\" alt=\"Drawing\" style=\"width:900px;\"/></th>\n",
    "  </tr>\n",
    "</table>"
   ]
  },
  {
   "cell_type": "markdown",
   "metadata": {},
   "source": [
    "By using regularization techniques even further, and by tuning the network’s parameters\n",
    "(such as the number of filters per convolution layer, or the number of layers in\n",
    "the network), you may be able to get an even better accuracy, likely up to 86% or 87%.\n",
    "But it would prove difficult to go any higher just by training your own convnet from\n",
    "scratch, because you have so little data to work with. As a next step to improve your\n",
    "accuracy on this problem, you’ll have to use a pretrained model, which is the focus of\n",
    "the next two sections.\n",
    "\n",
    "## Using a pretrained convnet\n",
    "A common and highly effective approach to deep learning on small image datasets is\n",
    "to use a pretrained network. A pretrained network is a saved network that was previously\n",
    "trained on a large dataset, typically on a large-scale image-classification task. If this\n",
    "original dataset is large enough and general enough, then the spatial hierarchy of features\n",
    "learned by the pretrained network can effectively act as a generic model of the\n",
    "visual world, and hence its features can prove useful for many different computer vision\n",
    "problems, even though these new problems may involve completely different\n",
    "classes than those of the original task. For instance, you might train a network on\n",
    "ImageNet (where classes are mostly animals and everyday objects) and then repurpose\n",
    "this trained network for something as remote as identifying furniture items in\n",
    "images. Such portability of learned features across different problems is a key advantage\n",
    "of deep learning compared to many older, shallow-learning approaches, and it\n",
    "makes deep learning very effective for small-data problems.\n",
    "\n",
    "In this case, let’s consider a large convnet trained on the ImageNet dataset\n",
    "(1.4 million labeled images and 1,000 different classes). ImageNet contains many animal\n",
    "classes, including different species of cats and dogs, and you can thus expect to\n",
    "perform well on the dogs-versus-cats classification problem.\n",
    "You’ll use the VGG16 architecture, developed by Karen Simonyan and Andrew\n",
    "Zisserman in 2014; it’s a simple and widely used convnet architecture for ImageNet.1\n",
    "Although it’s an older model, far from the current state of the art and somewhat\n",
    "heavier than many other recent models, I chose it because its architecture is similar to\n",
    "what you’re already familiar with and is easy to understand without introducing any\n",
    "new concepts. This may be your first encounter with one of these cutesy model\n",
    "names—VGG, ResNet, Inception, Inception-ResNet, Xception, and so on; you’ll get\n",
    "used to them, because they will come up frequently if you keep doing deep learning\n",
    "for computer vision.\n",
    "\n",
    "There are two ways to use a pretrained network: feature extraction and fine-tuning.\n",
    "We’ll cover both of them. Let’s start with feature extraction.\n",
    "\n",
    "### Feature extraction\n",
    "Feature extraction consists of using the representations learned by a previous network\n",
    "to extract interesting features from new samples. These features are then run through\n",
    "a new classifier, which is trained from scratch.\n",
    "\n",
    "As you saw previously, convnets used for image classification comprise two parts:\n",
    "they start with a series of pooling and convolution layers, and they end with a densely\n",
    "connected classifier. The first part is called the convolutional base of the model. In the\n",
    "case of convnets, feature extraction consists of taking the convolutional base of a usly trained network, running the new data through it, and training a new classifier\n",
    "on top of the output (see figure 5.14)."
   ]
  },
  {
   "cell_type": "markdown",
   "metadata": {},
   "source": [
    "<table style=\"width:100%\">\n",
    "  <tr>\n",
    "    <th><img src=\"photos/cv30.png\" alt=\"Drawing\" style=\"width:800px;\"/></th>\n",
    "  </tr>\n",
    "</table>"
   ]
  },
  {
   "cell_type": "markdown",
   "metadata": {},
   "source": [
    " Why only reuse the convolutional base? Could you reuse the densely connected classifier\n",
    "as well? In general, doing so should be avoided. The reason is that the representations\n",
    "learned by the convolutional base are likely to be more generic and therefore\n",
    "more reusable: the feature maps of a convnet are presence maps of generic concepts\n",
    "over a picture, which is likely to be useful regardless of the computer-vision problem at\n",
    "hand. But the representations learned by the classifier will necessarily be specific to the\n",
    "set of classes on which the model was trained—they will only contain information about\n",
    "the presence probability of this or that class in the entire picture. Additionally, representations\n",
    "found in densely connected layers no longer contain any information about\n",
    "where objects are located in the input image: these layers get rid of the notion of space,\n",
    "whereas the object location is still described by convolutional feature maps. For problems\n",
    "where object location matters, densely connected features are largely useless.\n",
    "\n",
    "Note that the level of generality (and therefore reusability) of the representations\n",
    "extracted by specific convolution layers depends on the depth of the layer in the\n",
    "model. Layers that come earlier in the model extract local, highly generic feature\n",
    "maps (such as visual edges, colors, and textures), whereas layers that are higher up\n",
    "extract more-abstract concepts (such as “cat ear” or “dog eye”). So if your new dataset\n",
    "differs a lot from the dataset on which the original model was trained, you may be better\n",
    "off using only the first few layers of the model to do feature extraction, rather than\n",
    "using the entire convolutional base.\n",
    "\n",
    "In this case, because the ImageNet class set contains multiple dog and cat classes,\n",
    "it’s likely to be beneficial to reuse the information contained in the densely connected\n",
    "layers of the original model. But we’ll choose not to, in order to cover the more general\n",
    "case where the class set of the new problem doesn’t overlap the class set of the\n",
    "original model. Let’s put this in practice by using the convolutional base of the VGG16\n",
    "network, trained on ImageNet, to extract interesting features from cat and dog\n",
    "images, and then train a dogs-versus-cats classifier on top of these features.\n",
    "The VGG16 model, among others, comes prepackaged with Keras. You can import\n",
    "it from the keras.applications module. Here’s the list of image-classification\n",
    "models (all pretrained on the ImageNet dataset) that are available as part of keras\n",
    ".applications:\n",
    "\n",
    "- Xception\n",
    "- Inception V3\n",
    "- ResNet50\n",
    "- VGG16\n",
    "- VGG19\n",
    "- MobileNet"
   ]
  },
  {
   "cell_type": "markdown",
   "metadata": {},
   "source": [
    "<table style=\"width:100%\">\n",
    "  <tr>\n",
    "    <th><img src=\"photos/cv31.png\" alt=\"Drawing\" style=\"width:800px;\"/></th>\n",
    "  </tr>\n",
    "</table>"
   ]
  },
  {
   "cell_type": "markdown",
   "metadata": {},
   "source": [
    "You pass three arguments to the constructor:\n",
    "- weights specifies the weight checkpoint from which to initialize the model.\n",
    "- include_top refers to including (or not) the densely connected classifier on top of the network. By default, this densely connected classifier corresponds to the 1,000 classes from ImageNet. Because you intend to use your own densely connected classifier (with only two classes: cat and dog), you don’t need to include it.\n",
    "- input_shape is the shape of the image tensors that you’ll feed to the network.\n",
    "\n",
    "This argument is purely optional: if you don’t pass it, the network will be able to\n",
    "process inputs of any size.\n",
    "\n",
    "Here’s the detail of the architecture of the VGG16 convolutional base. It’s similar to\n",
    "the simple convnets you’re already familiar with:"
   ]
  },
  {
   "cell_type": "markdown",
   "metadata": {},
   "source": [
    "<table style=\"width:100%\">\n",
    "  <tr>\n",
    "    <th><img src=\"photos/cv32.png\" alt=\"Drawing\" style=\"width:800px;\"/></th>\n",
    "  </tr>\n",
    "    <tr>\n",
    "    <th><img src=\"photos/cv33.png\" alt=\"Drawing\" style=\"width:800px;\"/></th>\n",
    "  </tr>\n",
    "</table>"
   ]
  },
  {
   "cell_type": "markdown",
   "metadata": {},
   "source": [
    "The final feature map has shape (4, 4, 512). That’s the feature on top of which you’ll\n",
    "stick a densely connected classifier.\n",
    "At this point, there are two ways you could proceed:\n",
    "- Running the convolutional base over your dataset, recording its output to a Numpy array on disk, and then using this data as input to a standalone, densely connected classifier similar to those you saw in part 1 of this book. This solution is fast and cheap to run, because it only requires running the convolutional base once for every input image, and the convolutional base is by far the most expensive part of the pipeline. But for the same reason, this technique won’t allow you to use data augmentation.\n",
    "- Extending the model you have (conv_base) by adding Dense layers on top, and running the whole thing end to end on the input data. This will allow you to use data augmentation, because every input image goes through the convolutional base every time it’s seen by the model. But for the same reason, this technique is far more expensive than the first.\n",
    "\n",
    "We’ll cover both techniques. Let’s walk through the code required to set up the first\n",
    "one: recording the output of conv_base on your data and using these outputs as\n",
    "inputs to a new model.\n",
    "\n",
    "#### FAST FEATURE EXTRACTION WITHOUT DATA AUGMENTATION\n",
    "You’ll start by running instances of the previously introduced ImageDataGenerator to\n",
    "extract images as Numpy arrays as well as their labels. You’ll extract features from\n",
    "these images by calling the predict method of the conv_base model."
   ]
  },
  {
   "cell_type": "markdown",
   "metadata": {},
   "source": [
    "<table style=\"width:100%\">\n",
    "  <tr>\n",
    "    <th><img src=\"photos/cv34.png\" alt=\"Drawing\" style=\"width:800px;\"/></th>\n",
    "  </tr>\n",
    "</table>"
   ]
  },
  {
   "cell_type": "markdown",
   "metadata": {},
   "source": [
    "The extracted features are currently of shape (samples, 4, 4, 512). You’ll feed them\n",
    "to a densely connected classifier, so first you must flatten them to (samples, 8192):"
   ]
  },
  {
   "cell_type": "markdown",
   "metadata": {},
   "source": [
    "<table style=\"width:100%\">\n",
    "  <tr>\n",
    "    <th><img src=\"photos/cv35.png\" alt=\"Drawing\" style=\"width:800px;\"/></th>\n",
    "  </tr>\n",
    "    <tr>\n",
    "    <th><img src=\"photos/cv36.png\" alt=\"Drawing\" style=\"width:800px;\"/></th>\n",
    "  </tr>\n",
    "</table>"
   ]
  },
  {
   "cell_type": "markdown",
   "metadata": {},
   "source": [
    "You reach a validation accuracy of about 90%—much better than you achieved in the\n",
    "previous section with the small model trained from scratch. But the plots also indicate\n",
    "that you’re overfitting almost from the start—despite using dropout with a fairly large\n",
    "rate. That’s because this technique doesn’t use data augmentation, which is essential\n",
    "for preventing overfitting with small image datasets.\n",
    "\n",
    "#### FEATURE EXTRACTION WITH DATA AUGMENTATION\n",
    "Now, let’s review the second technique I mentioned for doing feature extraction,\n",
    "which is much slower and more expensive, but which allows you to use data augmentation\n",
    "during training: extending the conv_base model and running it end to end on\n",
    "the inputs.\n",
    "\n",
    "NOTE This technique is so expensive that you should only attempt it if you\n",
    "have access to a GPU—it’s absolutely intractable on CPU. If you can’t run your\n",
    "code on GPU, then the previous technique is the way to go."
   ]
  },
  {
   "cell_type": "markdown",
   "metadata": {},
   "source": [
    "<table style=\"width:100%\">\n",
    "  <tr>\n",
    "    <th><img src=\"photos/cv37.png\" alt=\"Drawing\" style=\"width:800px;\"/></th>\n",
    "  </tr>\n",
    "</table>"
   ]
  },
  {
   "cell_type": "markdown",
   "metadata": {},
   "source": [
    "As you can see, the convolutional base of VGG16 has 14,714,688 parameters, which is\n",
    "very large. The classifier you’re adding on top has 2 million parameters.\n",
    "Before you compile and train the model, it’s very important to freeze the convolutional\n",
    "base. Freezing a layer or set of layers means preventing their weights from being\n",
    "updated during training. If you don’t do this, then the representations that were previously\n",
    "learned by the convolutional base will be modified during training. Because\n",
    "the Dense layers on top are randomly initialized, very large weight updates would be\n",
    "propagated through the network, effectively destroying the representations previously\n",
    "learned.\n",
    "\n",
    "In Keras, you freeze a network by setting its trainable attribute to False:"
   ]
  },
  {
   "cell_type": "markdown",
   "metadata": {},
   "source": [
    "<table style=\"width:100%\">\n",
    "  <tr>\n",
    "    <th><img src=\"photos/cv38.png\" alt=\"Drawing\" style=\"width:800px;\"/></th>\n",
    "  </tr>\n",
    "</table>"
   ]
  },
  {
   "cell_type": "markdown",
   "metadata": {},
   "source": [
    "With this setup, only the weights from the two Dense layers that you added will be\n",
    "trained. That’s a total of four weight tensors: two per layer (the main weight matrix\n",
    "and the bias vector). Note that in order for these changes to take effect, you must first\n",
    "compile the model. If you ever modify weight trainability after compilation, you\n",
    "should then recompile the model, or these changes will be ignored.\n",
    "\n",
    "Now you can start training your model, with the same data-augmentation configuration\n",
    "that you used in the previous example."
   ]
  },
  {
   "cell_type": "markdown",
   "metadata": {},
   "source": [
    "<table style=\"width:100%\">\n",
    "  <tr>\n",
    "    <th><img src=\"photos/cv38.png\" alt=\"Drawing\" style=\"width:800px;\"/></th>\n",
    "  </tr>\n",
    "</table>"
   ]
  },
  {
   "cell_type": "markdown",
   "metadata": {},
   "source": [
    "Let’s plot the results again (see figures 5.17 and 5.18). As you can see, you reach a validation\n",
    "accuracy of about 96%. This is much better than you achieved with the small\n",
    "convnet trained from scratch."
   ]
  },
  {
   "cell_type": "markdown",
   "metadata": {},
   "source": [
    "<table style=\"width:100%\">\n",
    "  <tr>\n",
    "    <th><img src=\"photos/cv39.png\" alt=\"Drawing\" style=\"width:800px;\"/></th>\n",
    "  </tr>\n",
    "    <tr>\n",
    "    <th><img src=\"photos/cv40.png\" alt=\"Drawing\" style=\"width:800px;\"/></th>\n",
    "  </tr>\n",
    "</table>"
   ]
  },
  {
   "cell_type": "markdown",
   "metadata": {},
   "source": [
    "### Fine-tuning\n",
    "Another widely used technique for model reuse, complementary to feature\n",
    "extraction, is fine-tuning (see figure 5.19). Fine-tuning consists of unfreezing a few of\n",
    "the top layers of a frozen model base used for feature extraction, and jointly training\n",
    "both the newly added part of the model (in this case, the fully connected classifier)\n",
    "and these top layers. This is called fine-tuning because it slightly adjusts the more\n",
    "abstract representations of the model being reused, in order to make them more relevant\n",
    "for the problem at hand."
   ]
  },
  {
   "cell_type": "markdown",
   "metadata": {},
   "source": [
    "<table style=\"width:100%\">\n",
    "  <tr>\n",
    "    <th><img src=\"photos/cv41.png\" alt=\"Drawing\" style=\"width:800px;\"/></th>\n",
    "  </tr>\n",
    "</table>"
   ]
  },
  {
   "cell_type": "markdown",
   "metadata": {},
   "source": [
    "I stated earlier that it’s necessary to freeze the convolution base of VGG16 in order to\n",
    "be able to train a randomly initialized classifier on top. For the same reason, it’s only\n",
    "possible to fine-tune the top layers of the convolutional base once the classifier on top\n",
    "has already been trained. If the classifier isn’t already trained, then the error signal\n",
    "propagating through the network during training will be too large, and the representations\n",
    "previously learned by the layers being fine-tuned will be destroyed. Thus the\n",
    "steps for fine-tuning a network are as follow:\n",
    "\n",
    "1. Add your custom network on top of an already-trained base network.\n",
    "2. Freeze the base network.\n",
    "3. Train the part you added.\n",
    "4. Unfreeze some layers in the base network.\n",
    "5. Jointly train both these layers and the part you added.\n",
    "\n",
    "You already completed the first three steps when doing feature extraction. Let’s proceed\n",
    "with step 4: you’ll unfreeze your conv_base and then freeze individual layers\n",
    "inside it.\n",
    "\n",
    "As a reminder, this is what your convolutional base looks like:"
   ]
  },
  {
   "cell_type": "markdown",
   "metadata": {},
   "source": [
    "<table style=\"width:100%\">\n",
    "  <tr>\n",
    "    <th><img src=\"photos/cv42.png\" alt=\"Drawing\" style=\"width:800px;\"/></th>\n",
    "  </tr>\n",
    "    <tr>\n",
    "    <th><img src=\"photos/cv43.png\" alt=\"Drawing\" style=\"width:800px;\"/></th>\n",
    "  </tr>\n",
    "</table>"
   ]
  },
  {
   "cell_type": "markdown",
   "metadata": {},
   "source": [
    "You’ll fine-tune the last three convolutional layers, which means all layers up to\n",
    "block4_pool should be frozen, and the layers block5_conv1, block5_conv2, and\n",
    "block5_conv3 should be trainable.\n",
    "Why not fine-tune more layers? Why not fine-tune the entire convolutional base?\n",
    "You could. But you need to consider the following:\n",
    "- Earlier layers in the convolutional base encode more-generic, reusable features, whereas layers higher up encode more-specialized features. It’s more useful to fine-tune the more specialized features, because these are the ones that need to be repurposed on your new problem. There would be fast-decreasing returns in fine-tuning lower layers.\n",
    "- The more parameters you’re training, the more you’re at risk of overfitting. The convolutional base has 15 million parameters, so it would be risky to attempt to train it on your small dataset.\n",
    "\n",
    "Thus, in this situation, it’s a good strategy to fine-tune only the top two or three layers\n",
    "in the convolutional base. Let’s set this up, starting from where you left off in the previous\n",
    "example."
   ]
  },
  {
   "cell_type": "markdown",
   "metadata": {},
   "source": [
    "<table style=\"width:100%\">\n",
    "  <tr>\n",
    "    <th><img src=\"photos/cv44.png\" alt=\"Drawing\" style=\"width:800px;\"/></th>\n",
    "  </tr>\n",
    "</table>"
   ]
  },
  {
   "cell_type": "markdown",
   "metadata": {},
   "source": [
    "Now you can begin fine-tuning the network. You’ll do this with the RMSProp optimizer,\n",
    "using a very low learning rate. The reason for using a low learning rate is that\n",
    "you want to limit the magnitude of the modifications you make to the representations\n",
    "of the three layers you’re fine-tuning. Updates that are too large may harm these representations."
   ]
  },
  {
   "cell_type": "markdown",
   "metadata": {},
   "source": [
    "<table style=\"width:100%\">\n",
    "  <tr>\n",
    "    <th><img src=\"photos/cv45.png\" alt=\"Drawing\" style=\"width:800px;\"/></th>\n",
    "  </tr>\n",
    "</table>"
   ]
  },
  {
   "cell_type": "markdown",
   "metadata": {},
   "source": [
    "These curves look noisy. To make them more readable, you can smooth them by\n",
    "replacing every loss and accuracy with exponential moving averages of these quantities.\n",
    "Here’s a trivial utility function to do this (see figures 5.22 and 5.23)."
   ]
  },
  {
   "cell_type": "markdown",
   "metadata": {},
   "source": [
    "<table style=\"width:100%\">\n",
    "  <tr>\n",
    "    <th><img src=\"photos/cv46.png\" alt=\"Drawing\" style=\"width:800px;\"/></th>\n",
    "  </tr>\n",
    "    <tr>\n",
    "    <th><img src=\"photos/cv47.png\" alt=\"Drawing\" style=\"width:800px;\"/></th>\n",
    "  </tr>\n",
    "</table>"
   ]
  },
  {
   "cell_type": "markdown",
   "metadata": {},
   "source": [
    "The validation accuracy curve look much cleaner. You’re seeing a nice 1% absolute\n",
    "improvement in accuracy, from about 96% to above 97%.\n",
    "\n",
    "Note that the loss curve doesn’t show any real improvement (in fact, it’s deteriorating).\n",
    "You may wonder, how could accuracy stay stable or improve if the loss isn’t\n",
    "decreasing? The answer is simple: what you display is an average of pointwise loss values;\n",
    "but what matters for accuracy is the distribution of the loss values, not their average,\n",
    "because accuracy is the result of a binary thresholding of the class probability\n",
    "predicted by the model. The model may still be improving even if this isn’t reflected\n",
    "in the average loss.\n",
    "\n",
    "You can now finally evaluate this model on the test data:"
   ]
  },
  {
   "cell_type": "markdown",
   "metadata": {},
   "source": [
    "<table style=\"width:100%\">\n",
    "  <tr>\n",
    "    <th><img src=\"photos/cv48.png\" alt=\"Drawing\" style=\"width:800px;\"/></th>\n",
    "  </tr>\n",
    "</table>"
   ]
  },
  {
   "cell_type": "markdown",
   "metadata": {},
   "source": [
    "Here you get a test accuracy of 97%. In the original Kaggle competition around this\n",
    "dataset, this would have been one of the top results. But using modern deep-learning\n",
    "techniques, you managed to reach this result using only a small fraction of the training\n",
    "data available (about 10%). There is a huge difference between being able to train\n",
    "on 20,000 samples compared to 2,000 samples!\n",
    "\n",
    "### Wrapping up\n",
    "Here’s what you should take away from the exercises in the past two sections:\n",
    "- Convnets are the best type of machine-learning models for computer-vision tasks. It’s possible to train one from scratch even on a very small dataset, with decent results.\n",
    "- On a small dataset, overfitting will be the main issue. Data augmentation is a powerful way to fight overfitting when you’re working with image data.\n",
    "- It’s easy to reuse an existing convnet on a new dataset via feature extraction. This is a valuable technique for working with small image datasets.\n",
    "- As a complement to feature extraction, you can use fine-tuning, which adapts to a new problem some of the representations previously learned by an existing model. This pushes performance a bit further.\n",
    "\n",
    "Now you have a solid set of tools for dealing with image-classification problems—in\n",
    "particular with small datasets.\n",
    "\n",
    "## Visualizing what convnets learn\n",
    "It’s often said that deep-learning models are “black boxes”: learning representations\n",
    "that are difficult to extract and present in a human-readable form. Although this is\n",
    "partially true for certain types of deep-learning models, it’s definitely not true for\n",
    "convnets. The representations learned by convnets are highly amenable to visualization,\n",
    "in large part because they’re representations of visual concepts. Since 2013, a wide\n",
    "array of techniques have been developed for visualizing and interpreting these representations.\n",
    "\n",
    "We won’t survey all of them, but we’ll cover three of the most accessible\n",
    "and useful ones:\n",
    "\n",
    "- Visualizing intermediate convnet outputs (intermediate activations)—Useful for understanding how successive convnet layers transform their input, and for getting a first idea of the meaning of individual convnet filters.\n",
    "- Visualizing convnets filters—Useful for understanding precisely what visual pattern or concept each filter in a convnet is receptive to.\n",
    "- Visualizing heatmaps of class activation in an image—Useful for understanding which parts of an image were identified as belonging to a given class, thus allowing you to localize objects in images.\n",
    "\n",
    "For the first method—activation visualization—you’ll use the small convnet that you\n",
    "trained from scratch on the dogs-versus-cats classification problem in section 5.2. For\n",
    "the next two methods, you’ll use the VGG16 model introduced in section 5.3.\n",
    "\n",
    "### Visualizing intermediate activations\n",
    "Visualizing intermediate activations consists of displaying the feature maps that are\n",
    "output by various convolution and pooling layers in a network, given a certain input\n",
    "(the output of a layer is often called its activation, the output of the activation function).\n",
    "\n",
    "This gives a view into how an input is decomposed into the different filters\n",
    "learned by the network. You want to visualize feature maps with three dimensions:\n",
    "width, height, and depth (channels). Each channel encodes relatively independent\n",
    "features, so the proper way to visualize these feature maps is by independently plotting\n",
    "the contents of every channel as a 2D image. Let’s start by loading the model that\n",
    "you saved in section 5.2:"
   ]
  },
  {
   "cell_type": "markdown",
   "metadata": {},
   "source": [
    "<table style=\"width:100%\">\n",
    "  <tr>\n",
    "    <th><img src=\"photos/cv49.png\" alt=\"Drawing\" style=\"width:800px;\"/></th>\n",
    "  </tr>\n",
    "    <tr>\n",
    "    <th><img src=\"photos/cv50.png\" alt=\"Drawing\" style=\"width:800px;\"/></th>\n",
    "  </tr>\n",
    "   <tr>\n",
    "    <th><img src=\"photos/cv51.png\" alt=\"Drawing\" style=\"width:800px;\"/></th>\n",
    "  </tr>\n",
    "</table>"
   ]
  },
  {
   "cell_type": "markdown",
   "metadata": {},
   "source": [
    "In order to extract the feature maps you want to look at, you’ll create a Keras model\n",
    "that takes batches of images as input, and outputs the activations of all convolution and\n",
    "pooling layers. To do this, you’ll use the Keras class Model. A model is instantiated\n",
    "using two arguments: an input tensor (or list of input tensors) and an output tensor\n",
    "(or list of output tensors). The resulting class is a Keras model, just like the Sequential\n",
    "models you’re familiar with, mapping the specified inputs to the specified outputs.\n",
    "What sets the Model class apart is that it allows for models with multiple outputs, unlike\n",
    "Sequential. For more information about the Model class, see section 7.1."
   ]
  },
  {
   "cell_type": "markdown",
   "metadata": {},
   "source": [
    "<table style=\"width:100%\">\n",
    "  <tr>\n",
    "    <th><img src=\"photos/cv52.png\" alt=\"Drawing\" style=\"width:800px;\"/></th>\n",
    "  </tr>\n",
    "</table>"
   ]
  },
  {
   "cell_type": "markdown",
   "metadata": {},
   "source": [
    "When fed an image input, this model returns the values of the layer activations in the\n",
    "original model. This is the first time you’ve encountered a multi-output model in this\n",
    "book: until now, the models you’ve seen have had exactly one input and one output.\n",
    "In the general case, a model can have any number of inputs and outputs. This one has\n",
    "one input and eight outputs: one output per layer activation."
   ]
  },
  {
   "cell_type": "markdown",
   "metadata": {},
   "source": [
    "<table style=\"width:100%\">\n",
    "  <tr>\n",
    "    <th><img src=\"photos/cv53.png\" alt=\"Drawing\" style=\"width:800px;\"/></th>\n",
    "  </tr>\n",
    "    <tr>\n",
    "    <th><img src=\"photos/cv54.png\" alt=\"Drawing\" style=\"width:800px;\"/></th>\n",
    "  </tr>\n",
    "   <tr>\n",
    "    <th><img src=\"photos/cv55.png\" alt=\"Drawing\" style=\"width:800px;\"/></th>\n",
    "  </tr>\n",
    "</table>"
   ]
  },
  {
   "cell_type": "markdown",
   "metadata": {},
   "source": [
    "There are a few things to note here:\n",
    "- The first layer acts as a collection of various edge detectors. At that stage, the activations retain almost all of the information present in the initial picture.\n",
    "- As you go higher, the activations become increasingly abstract and less visually interpretable. They begin to encode higher-level concepts such as “cat ear” and “cat eye.” Higher presentations carry increasingly less information about the visual contents of the image, and increasingly more information related to the class of the image.\n",
    "- The sparsity of the activations increases with the depth of the layer: in the first layer, all filters are activated by the input image; but in the following layers, more and more filters are blank. This means the pattern encoded by the filter isn’t found in the input image.\n",
    "\n",
    "We have just evidenced an important universal characteristic of the representations\n",
    "learned by deep neural networks: the features extracted by a layer become increasingly\n",
    "abstract with the depth of the layer. The activations of higher layers carry less\n",
    "and less information about the specific input being seen, and more and more information\n",
    "about the target (in this case, the class of the image: cat or dog). A deep neural\n",
    "network effectively acts as an information distillation pipeline, with raw data going in\n",
    "(in this case, RGB pictures) and being repeatedly transformed so that irrelevant information\n",
    "is filtered out (for example, the specific visual appearance of the image), and\n",
    "useful information is magnified and refined (for example, the class of the image).\n",
    "\n",
    "This is analogous to the way humans and animals perceive the world: after observing\n",
    "a scene for a few seconds, a human can remember which abstract objects were\n",
    "present in it (bicycle, tree) but can’t remember the specific appearance of these\n",
    "objects. In fact, if you tried to draw a generic bicycle from memory, chances are you\n",
    "couldn’t get it even remotely right, even though you’ve seen thousands of bicycles in\n",
    "your lifetime (see, for example, figure 5.28). Try it right now: this effect is absolutely\n",
    "real. You brain has learned to completely abstract its visual input—to transform it into\n",
    "high-level visual concepts while filtering out irrelevant visual details—making it tremendously\n",
    "difficult to remember how things around you look."
   ]
  },
  {
   "cell_type": "markdown",
   "metadata": {},
   "source": [
    "<table style=\"width:100%\">\n",
    "  <tr>\n",
    "    <th><img src=\"photos/cv56.png\" alt=\"Drawing\" style=\"width:800px;\"/></th>\n",
    "  </tr>\n",
    "</table>"
   ]
  },
  {
   "cell_type": "markdown",
   "metadata": {},
   "source": [
    "### Visualizing convnet filters\n",
    "Another easy way to inspect the filters learned by convnets is to display the visual pattern\n",
    "that each filter is meant to respond to. This can be done with gradient ascent in\n",
    "input space: applying gradient descent to the value of the input image of a convnet so as\n",
    "to maximize the response of a specific filter, starting from a blank input image. The\n",
    "resulting input image will be one that the chosen filter is maximally responsive to.\n",
    "\n",
    "The process is simple: you’ll build a loss function that maximizes the value of a\n",
    "given filter in a given convolution layer, and then you’ll use stochastic gradient\n",
    "descent to adjust the values of the input image so as to maximize this activation value.\n",
    "For instance, here’s a loss for the activation of filter 0 in the layer block3_conv1 of the\n",
    "VGG16 network, pretrained on ImageNet."
   ]
  },
  {
   "cell_type": "markdown",
   "metadata": {},
   "source": [
    "<table style=\"width:100%\">\n",
    "  <tr>\n",
    "    <th><img src=\"photos/cv57.png\" alt=\"Drawing\" style=\"width:800px;\"/></th>\n",
    "  </tr>\n",
    "    <tr>\n",
    "    <th><img src=\"photos/cv58.png\" alt=\"Drawing\" style=\"width:800px;\"/></th>\n",
    "  </tr>\n",
    "</table>"
   ]
  },
  {
   "cell_type": "markdown",
   "metadata": {},
   "source": [
    "Now you have all the pieces. Let’s put them together into a Python function that takes\n",
    "as input a layer name and a filter index, and returns a valid image tensor representing\n",
    "the pattern that maximizes the activation of the specified filter."
   ]
  },
  {
   "cell_type": "markdown",
   "metadata": {},
   "source": [
    "<table style=\"width:100%\">\n",
    "  <tr>\n",
    "    <th><img src=\"photos/cv59.png\" alt=\"Drawing\" style=\"width:800px;\"/></th>\n",
    "  </tr>\n",
    "</table>"
   ]
  },
  {
   "cell_type": "markdown",
   "metadata": {},
   "source": [
    "It seems that filter 0 in layer block3_conv1 is responsive to a polka-dot pattern. Now\n",
    "the fun part: you can start visualizing every filter in every layer. For simplicity, you’ll\n",
    "only look at the first 64 filters in each layer, and you’ll only look at the first layer of\n",
    "each convolution block (block1_conv1, block2_conv1, block3_conv1, block4_\n",
    "conv1, block5_conv1). You’ll arrange the outputs on an 8 × 8 grid of 64 × 64 filter patterns,\n",
    "with some black margins between each filter pattern (see figures 5.30–5.33)."
   ]
  },
  {
   "cell_type": "markdown",
   "metadata": {},
   "source": [
    "<table style=\"width:100%\">\n",
    "  <tr>\n",
    "    <th><img src=\"photos/cv60.png\" alt=\"Drawing\" style=\"width:800px;\"/></th>\n",
    "  </tr>\n",
    "    <tr>\n",
    "    <th><img src=\"photos/cv61.png\" alt=\"Drawing\" style=\"width:800px;\"/></th>\n",
    "  </tr>\n",
    "  <tr>\n",
    "    <th><img src=\"photos/cv62.png\" alt=\"Drawing\" style=\"width:800px;\"/></th>\n",
    "  </tr>\n",
    "</table>"
   ]
  },
  {
   "cell_type": "markdown",
   "metadata": {},
   "source": [
    "These filter visualizations tell you a lot about how convnet layers see the world: each\n",
    "layer in a convnet learns a collection of filters such that their inputs can be expressed\n",
    "as a combination of the filters. This is similar to how the Fourier transform decomposes\n",
    "signals onto a bank of cosine functions. The filters in these convnet filter banks\n",
    "get increasingly complex and refined as you go higher in the model:\n",
    "- The filters from the first layer in the model (block1_conv1) encode simple directional edges and colors (or colored edges, in some cases).\n",
    "- The filters from block2_conv1 encode simple textures made from combinations of edges and colors.\n",
    "- The filters in higher layers begin to resemble textures found in natural images: feathers, eyes, leaves, and so on.\n",
    "\n",
    "### Visualizing heatmaps of class activation\n",
    "I’ll introduce one more visualization technique: one that is useful for understanding\n",
    "which parts of a given image led a convnet to its final classification decision. This is\n",
    "helpful for debugging the decision process of a convnet, particularly in the case of a\n",
    "classification mistake. It also allows you to locate specific objects in an image.\n",
    "\n",
    "This general category of techniques is called class activation map (CAM) visualization,\n",
    "and it consists of producing heatmaps of class activation over input images. A class activation\n",
    "heatmap is a 2D grid of scores associated with a specific output class, computed\n",
    "for every location in any input image, indicating how important each location is with respect to the class under consideration. For instance, given an image fed into a dogsversus-\n",
    "cats convnet, CAM visualization allows you to generate a heatmap for the class\n",
    "“cat,” indicating how cat-like different parts of the image are, and also a heatmap for the\n",
    "class “dog,” indicating how dog-like parts of the image are.\n",
    "\n",
    "The specific implementation you’ll use is the one described in “Grad-CAM: Visual\n",
    "Explanations from Deep Networks via Gradient-based Localization.”2 It’s very simple:\n",
    "it consists of taking the output feature map of a convolution layer, given an input\n",
    "image, and weighing every channel in that feature map by the gradient of the class\n",
    "with respect to the channel. Intuitively, one way to understand this trick is that you’re\n",
    "weighting a spatial map of “how intensely the input image activates different channels”\n",
    "by “how important each channel is with regard to the class,” resulting in a spatial\n",
    "map of “how intensely the input image activates the class.”\n",
    "\n",
    "We’ll demonstrate this technique using the pretrained VGG16 network again."
   ]
  },
  {
   "cell_type": "markdown",
   "metadata": {},
   "source": [
    "<table style=\"width:100%\">\n",
    "  <tr>\n",
    "    <th><img src=\"photos/cv63.png\" alt=\"Drawing\" style=\"width:800px;\"/></th>\n",
    "  </tr>\n",
    "</table>"
   ]
  },
  {
   "cell_type": "markdown",
   "metadata": {},
   "source": [
    "Consider the image of two African elephants shown in figure 5.34 (under a Creative\n",
    "Commons license), possibly a mother and her calf, strolling on the savanna. Let’s convert\n",
    "this image into something the VGG16 model can read: the model was trained on\n",
    "images of size 224 × 244, preprocessed according to a few rules that are packaged in\n",
    "the utility function keras.applications.vgg16.preprocess_input. So you need to\n",
    "load the image, resize it to 224 × 224, convert it to a Numpy float32 tensor, and apply\n",
    "these preprocessing rules.\n",
    "\n"
   ]
  },
  {
   "cell_type": "markdown",
   "metadata": {},
   "source": [
    "<table style=\"width:100%\">\n",
    "  <tr>\n",
    "    <th><img src=\"photos/cv64.png\" alt=\"Drawing\" style=\"width:800px;\"/></th>\n",
    "  </tr>\n",
    "    <tr>\n",
    "    <th><img src=\"photos/cv65.png\" alt=\"Drawing\" style=\"width:800px;\"/></th>\n",
    "  </tr>\n",
    "  <tr>\n",
    "    <th><img src=\"photos/cv66.png\" alt=\"Drawing\" style=\"width:800px;\"/></th>\n",
    "  </tr>\n",
    "</table>"
   ]
  },
  {
   "cell_type": "markdown",
   "metadata": {},
   "source": [
    "Finally, you’ll use OpenCV to generate an image that superimposes the original image\n",
    "on the heatmap you just obtained (see figure 5.36)."
   ]
  },
  {
   "cell_type": "markdown",
   "metadata": {},
   "source": [
    "<table style=\"width:100%\">\n",
    "  <tr>\n",
    "    <th><img src=\"photos/cv67.png\" alt=\"Drawing\" style=\"width:800px;\"/></th>\n",
    "  </tr>\n",
    "</table>"
   ]
  },
  {
   "cell_type": "markdown",
   "metadata": {},
   "source": [
    "This visualization technique answers two important questions:\n",
    "- Why did the network think this image contained an African elephant?\n",
    "- Where is the African elephant located in the picture?\n",
    "\n",
    "In particular, it’s interesting to note that the ears of the elephant calf are strongly activated:\n",
    "this is probably how the network can tell the difference between African and\n",
    "Indian elephants.\n",
    "\n",
    "### Chapter summary\n",
    "- Convnets are the best tool for attacking visual-classification problems.\n",
    "- Convnets work by learning a hierarchy of modular patterns and concepts to represent the visual world.\n",
    "- The representations they learn are easy to inspect—convnets are the opposite of black boxes!\n",
    "- You’re now capable of training your own convnet from scratch to solve an image-classification problem.\n",
    "- You understand how to use visual data augmentation to fight overfitting.\n",
    "- You know how to use a pretrained convnet to do feature extraction and fine-tuning.\n",
    "- You can generate visualizations of the filters learned by your convnets, as well as heatmaps of class activity."
   ]
  },
  {
   "cell_type": "code",
   "execution_count": null,
   "metadata": {},
   "outputs": [],
   "source": []
  }
 ],
 "metadata": {
  "kernelspec": {
   "display_name": "Python 3 (ipykernel)",
   "language": "python",
   "name": "python3"
  },
  "language_info": {
   "codemirror_mode": {
    "name": "ipython",
    "version": 3
   },
   "file_extension": ".py",
   "mimetype": "text/x-python",
   "name": "python",
   "nbconvert_exporter": "python",
   "pygments_lexer": "ipython3",
   "version": "3.8.6"
  }
 },
 "nbformat": 4,
 "nbformat_minor": 2
}
