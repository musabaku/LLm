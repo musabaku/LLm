{
 "cells": [
  {
   "cell_type": "markdown",
   "metadata": {},
   "source": [
    "# Docker \n",
    "\n",
    "## What is Docker?\n",
    "DOCKER is computer software used for Virtualization in order to have multiple Operating systems running on the same host. Unlike Hypervisors which are used for creating VM (Virtual machines), virtualization in Docker is performed on system-level in so-called Docker containers.\n",
    "\n",
    "As you can see the difference in the image below, Docker containers run on top of the host's Operation system. This helps you to improves efficiency and security. Moreover, we can run more containers on the same infrastructure than we can run Virtual machines because containers use fewer resources.\n",
    "\n"
   ]
  },
  {
   "cell_type": "markdown",
   "metadata": {},
   "source": [
    "<table style=\"width:100%\">\n",
    "  <tr>\n",
    "    <th><img src=\"photos/docker1.png\" alt=\"Drawing\" style=\"width:1000px;\"/></th>\n",
    "  </tr>\n",
    "</table>"
   ]
  },
  {
   "cell_type": "markdown",
   "metadata": {},
   "source": [
    "Unlike the VMs which can communicate with the hardware of the host (ex: Ethernet adapter to create more virtual adapters) Docker containers run in an isolated environment on top of the host's OS. Even if your host runs Windows OS, you can have Linux images running in containers with the help of Hyper-V, which automatically creates small VM to virtualize the system's base image, in this case, Linux.\n",
    "\n",
    "In this Docker training, you will learn\n",
    "\n",
    "### Docker Architecture\n",
    "\n",
    "Let's talk about Docker main components in the Docker Architecture\n",
    "\n",
    "### Docker Engine\n",
    "\n",
    "Docker is the client-server type of application which means we have clients who relay to the server. So the Docker daemon called: dockerd is the Docker engine which represents the server. The docker daemon and the clients can be run on the same or remote host, and they communicate through command line client binary, as well as a full RESTful API to interact with the daemon: dockerd.\n",
    "\n",
    "### Docker Images\n",
    "\n",
    "Docker images are the \"source code\" for our containers; we use them to build containers. They can have software pre-installed which speeds up deployment. They are portable, and we can use existing images or build our own.\n",
    "\n",
    "### Registries\n",
    "\n",
    "Docker stores the images we build in registries. There are public and private registries. Docker company has public registry called Docker hub, where you can also store images privately. Docker hub has millions of images, which you can start using now.\n",
    "\n",
    "### Docker Containers\n",
    "\n",
    "Containers are the organizational units of Docker. When we build an image and start running it; we are running in a container. The container analogy is used because of the portability of the software we have running in our container. We can move it, in other words, \"ship\" the software, modify, manage, create or get rid of it, destroy it, just as cargo ships can do with real containers.\n",
    "\n",
    "In simple terms, an image is a template, and a container is a copy of that template. You can have multiple containers (copies) of the same image.\n",
    "\n",
    "Below we have an image which perfectly represents the interaction between the different components and how Docker container technology works.\n",
    "\n"
   ]
  },
  {
   "cell_type": "markdown",
   "metadata": {},
   "source": [
    "<table style=\"width:100%\">\n",
    "  <tr>\n",
    "    <th><img src=\"photos/docker2.png\" alt=\"Drawing\" style=\"width:1000px;\"/></th>\n",
    "  </tr>\n",
    "</table>"
   ]
  },
  {
   "cell_type": "markdown",
   "metadata": {},
   "source": [
    "What we have several dockers commands docker pull, docker run.. we will talk more about that later.\n",
    "\n",
    "## Installing Docker on Linux.\n",
    "To install docker, we need to use the Docker team's DEB packages. For that, first, we need to install some prerequisite packages.\n",
    "\n",
    "Step 1) Adding prerequisite Ubuntu packages\n",
    "\n",
    "     sudo apt-get install \\ apt-transport-https \\ ca-certificates curl \\ software-properties-common\n",
    "\n",
    "*the sign \"/\" is not necessary it's used for the new line, if want you can write the command without using \"/\" in one line only.\n",
    "\n",
    "Step 2) Add the Docker GPG key\n",
    "\n",
    "     curl -fsSL https://download.docker.com/linux/ubuntu/gpg | sudo apt-key add -\n",
    "\n",
    "Step 3) Adding the Docker APT repository\n",
    "\n",
    "     sudo add-apt-repository \\ \"deb [arch=amd64] https://download.docker.com/linux/ubuntu \\ \n",
    "\n",
    "    (lsb_release -cs) \\ stable\"\n",
    "\n",
    "You may be prompted to confirm that you wish to add the repository and have the repository's GPG key automatically added to your host.\n",
    "\n",
    "The lsb_release command should populate the Ubuntu distribution version of your host.\n",
    "\n",
    "Step 4) Update APT sources\n",
    "\n",
    "     sudo apt-get update\n",
    "\n",
    "We can now install the Docker package itself.\n",
    "\n",
    "Step 5) Installing the Docker packages on Ubuntu\n",
    "\n",
    "     sudo apt-get install docker-ce\n",
    "\n",
    "The above-given command installs Docker and other additional required packages. Before Docker 1.8.0, the package name was lxc-docker, and between Docker 1.8 and 1.13, the package name was docker-engine.\n",
    "\n",
    "NOTE: Docker for Windows requires Windows 10 Pro or Enterprise version 14393, or Windows server 2016 RTM to run\n",
    "\n",
    "Basic Docker commands examples\n",
    "The most basic command we must run after installing Docker is \n",
    "\n",
    "     docker info \n",
    "as we said previously.\n",
    "\n",
    "     sudo docker info\n",
    "\n",
    "You should get the similar or following result\n",
    "\n"
   ]
  },
  {
   "cell_type": "markdown",
   "metadata": {},
   "source": [
    "<table style=\"width:100%\">\n",
    "  <tr>\n",
    "    <th><img src=\"photos/docker3.png\" alt=\"Drawing\" style=\"width:1000px;\"/></th>\n",
    "  </tr>\n",
    "</table>"
   ]
  },
  {
   "cell_type": "markdown",
   "metadata": {},
   "source": [
    "As we can see we have information about docker containers how many are running, paused or stopped and how many images we have downloaded. So let's get our first image.\n",
    "\n",
    "     sudo docker pull alpine\n",
    "\n",
    "With this command we are telling docker to download the image alpine, to pull it from the public registry, the latest version which is set by default.\n",
    "\n",
    "*alpine is a minimal Docker image based on Alpine Linux with a complete package index and only 5 MB in size.\n",
    "\n",
    "If we want to run the image as a container, we will use the following command.\n",
    "\n",
    "     sudo docker run -i -t alpine /bin/bash\n",
    "\n",
    "If we run the command, we will be sent directly to the alpine's terminal. The -i flag keeps STDIN open from the container, even when you are not attached to it. This persistent standard input is one half of what you require for an interactive shell. The -t flag is the other half and which instructs Docker to assign a pseudo-tty to the container. This offers us an interactive shell in the new container. We exit the container with a simple exit command.\n",
    "\n",
    "Now we can try running an Ubuntu image.\n",
    "\n",
    "     sudo docker run -it ubuntu /bin/bash\n",
    "\n",
    "You can notice docker checks for the image locally, and if it's not there, the image is pulled from the image library automatically, and once again we have an interactive shell running. We can also name the containers as we run them.\n",
    "\n",
    "     sudo docker run –-name our_container -it ubuntu /bin/bash\n",
    "\n",
    "and we exit again.\n",
    "\n",
    "We can also run container we previously created, without an interactive shell.\n",
    "\n",
    "     sudo docker start container_name\n",
    "\n",
    "And stop the container writing docker stop container_name\n",
    "\n",
    "     sudo docker stop container_name\n",
    "\n",
    "If we want to see all running containers, we just run\n",
    "\n",
    "     docker ps\n",
    "\n",
    "And for all containers we add \"- a\"at the end of this same command, like this docker ps -a.\n",
    "\n",
    "This command shows Container's ID, which image is using when was created, running status, exposed ports and randomly generated name for the container for easier management.\n",
    "\n",
    "When we run containers, we would also like to know how much resources they are using, for that purpose we can use the command.\n",
    "\n",
    "     docker stats\n",
    "\n",
    "You can also see which images we have downloaded locally and info about them.\n",
    "\n",
    "     sudo docker images\n",
    "\n",
    "The command displays the docker image with a tag which shows our image version, a distinctive image ID, when was created and image size.\n",
    "\n",
    "Before we move ahead though, let's quickly talk about deleting containers. We saw above that we can still see remnants of the container even after we've exited by running docker ps -a. Throughout this tutorial, you'll run docker run multiple times and leaving stray containers will eat up disk space. Hence, as a rule of thumb, I clean up containers once I'm done with them. To do that, you can run the docker rm command. Just copy the container IDs from above and paste them alongside the command.\n",
    "\n",
    "     docker rm 305297d7a235 ff0a5c3750b9\n",
    "     305297d7a235\n",
    "     ff0a5c3750b9\n",
    "\n",
    "On deletion, you should see the IDs echoed back to you. If you have a bunch of containers to delete in one go, copy-pasting IDs can be tedious. In that case, you can simply run -\n",
    "\n",
    "    docker rm \n",
    "    (docker ps -a -q -f status=exited)\n",
    "\n",
    "This command deletes all containers that have a status of exited. In case you're wondering, the -q flag, only returns the numeric IDs and -f filters output based on conditions provided. One last thing that'll be useful is the --rm flag that can be passed to docker run which automatically deletes the container once it's exited from. For one off docker runs, --rm flag is very useful.\n",
    "\n",
    "In later versions of Docker, the docker container prune command can be used to achieve the same effect.\n",
    "\n",
    "    docker container prune\n",
    "    WARNING! This will remove all stopped containers.\n",
    "    Are you sure you want to continue? [y/N] y\n",
    "    Deleted Containers:\n",
    "    4a7f7eebae0f63178aff7eb0aa39f0627a203ab2df258c1a00b456cf20063\n",
    "    f98f9c2aa1eaf727e4ec9c0283bcaa4762fbdba7f26191f26c97f64090360\n",
    "    Total reclaimed space: 212 B\n",
    "\n",
    "Lastly, you can also delete images that you no longer need by running \n",
    "\n",
    "    docker rmi.\n",
    "\n",
    "\n",
    "\n",
    "### FAQ\n",
    "\n",
    "### What is Virtualization?\n",
    "Earlier, the process for deploying a service was slow and painful. First, the developers were writing code; then the operations team would deploy it on bare metal machines, where they had to look out for library versions, patches, and language compilers for the code to work. If there were some bugs or errors, the process would start all over again, the developers would fix it, and then again the operational team was there to deploy.\n",
    "\n",
    "\n",
    "There was an improvement with the creation of Hypervisors. Hypervisors have multiple Virtual machines or VMs on the same host, which may be running or turned off. VMs decreased the waiting time for deploying code and bug fixing in a big manner, but the real game changer was Docker containers.\n",
    "\n",
    "### Why use Docker?\n",
    "Docker is computer software used for Virtualization in order to have multiple Operating systems running on the same host\n",
    "Docker is the client-server type of application which means we have clients who relay to the server\n",
    "Docker images are the \"source code\" for our containers; we use them to build\n",
    "Dockerfile has two types of registries \n",
    "1. public \n",
    "2. private registries\n",
    "\n",
    "Containers are the organizational units of Docker volume. In simple terms, an image is a template, and a container is a copy of that template. You can have multiple containers (copies) of the same image.\n",
    "### Give important Docker Commands"
   ]
  },
  {
   "cell_type": "markdown",
   "metadata": {},
   "source": [
    "Command\tDescription\n",
    "\n",
    "- docker info   ->\tInformation Command\n",
    " \n",
    "- docker pull  ->\tDownload an image\n",
    "\n",
    "- docker run -i -t image_name /bin/bash  ->\tRun image as a container\n",
    "\n",
    "- docker start our_container  ->\tStart container\n",
    "- docker stop container_name  ->\tStop container\n",
    "- docker ps  ->\tList of al running containers\n",
    "- docker stats ->\tContainer information\n",
    "- docker images\t -> List of images downloaded\n",
    "- Docker Cleanup ->\tKill all running containers.\n",
    " \n",
    "### Terminology\n",
    "In the last section, we used a lot of Docker-specific jargon which might be confusing to some. So before we go further, let me clarify some terminology that is used frequently in the Docker ecosystem.\n",
    "\n",
    "- **Images** - The blueprints of our application which form the basis of containers. In the demo above, we used the docker pull command to download the busybox image.\n",
    "- **Containers** - Created from Docker images and run the actual application. We create a container using docker run which we did using the busybox image that we downloaded. A list of running containers can be seen using the docker ps command.\n",
    "- **Docker Daemon** - The background service running on the host that manages building, running and distributing Docker containers. The daemon is the process that runs in the operating system which clients talk to.\n",
    "- **Docker Client** - The command line tool that allows the user to interact with the daemon. More generally, there can be other forms of clients too - such as Kitematic which provide a GUI to the users.\n",
    "- **Docker Hub** - A registry of Docker images. You can think of the registry as a directory of all available Docker images. If required, one can host their own Docker registries and can use them for pulling images.\n"
   ]
  },
  {
   "cell_type": "markdown",
   "metadata": {},
   "source": [
    "<table style=\"width:100%\">\n",
    "  <tr>\n",
    "    <th><img src=\"photos/docker4.png\" alt=\"Drawing\" style=\"width:1000px;\"/></th>\n",
    "  </tr>\n",
    "  <tr>\n",
    "    <th><img src=\"photos/docker5.png\" alt=\"Drawing\" style=\"width:1000px;\"/></th>\n",
    "  </tr>\n",
    "  <tr>\n",
    "    <th><img src=\"photos/docker6.png\" alt=\"Drawing\" style=\"width:1000px;\"/></th>\n",
    "  </tr>\n",
    "  <tr>\n",
    "    <th><img src=\"photos/docker7.png\" alt=\"Drawing\" style=\"width:400px;\"/></th>\n",
    "  </tr>\n",
    "  <tr>\n",
    "    <th><img src=\"photos/docker13.png\" alt=\"Drawing\" style=\"width:1000px;\"/></th>\n",
    "  </tr>\n",
    "</table>"
   ]
  },
  {
   "cell_type": "markdown",
   "metadata": {},
   "source": [
    "<table style=\"width:100%\">\n",
    "  <tr>\n",
    "    <th><img src=\"photos/docker8.png\" alt=\"Drawing\" style=\"width:400px;\"/></th>\n",
    "    <th><img src=\"photos/docker9.png\" alt=\"Drawing\" style=\"width:400px;\"/></th>\n",
    "  </tr>\n",
    "</table>"
   ]
  },
  {
   "cell_type": "markdown",
   "metadata": {},
   "source": [
    "<table style=\"width:100%\">\n",
    "  <tr>\n",
    "    <th><img src=\"photos/docker10.png\" alt=\"Drawing\" style=\"width:1000px;\"/></th>\n",
    "  </tr>\n",
    "  <tr>\n",
    "    <th><img src=\"photos/docker11.png\" alt=\"Drawing\" style=\"width:1000px;\"/></th>\n",
    "  </tr>\n",
    "  <tr>\n",
    "    <th><img src=\"photos/docker12.png\" alt=\"Drawing\" style=\"width:1000px;\"/></th>\n",
    "  </tr>\n",
    "</table>"
   ]
  },
  {
   "cell_type": "markdown",
   "metadata": {},
   "source": [
    "# GIT\n",
    "\n",
    "## What is version control\n",
    " \n",
    "### Benefits of version control\n",
    "Version control systems are a category of software tools that help a software team manage changes to source code over time. Version control software keeps track of every modification to the code in a special kind of database. If a mistake is made, developers can turn back the clock and compare earlier versions of the code to help fix the mistake while minimizing disruption to all team members.\n",
    "\n",
    "For almost all software projects, the source code is like the crown jewels - a precious asset whose value must be protected. For most software teams, the source code is a repository of the invaluable knowledge and understanding about the problem domain that the developers have collected and refined through careful effort. Version control protects source code from both catastrophe and the casual degradation of human error and unintended consequences.\n",
    "\n",
    "Software developers working in teams are continually writing new source code and changing existing source code. The code for a project, app or software component is typically organized in a folder structure or \"file tree\". One developer on the team may be working on a new feature while another developer fixes an unrelated bug by changing code, each developer may make their changes in several parts of the file tree.\n",
    "\n",
    "Version control helps teams solve these kinds of problems, tracking every individual change by each contributor and helping prevent concurrent work from conflicting. Changes made in one part of the software can be incompatible with those made by another developer working at the same time. This problem should be discovered and solved in an orderly manner without blocking the work of the rest of the team. Further, in all software development, any change can introduce new bugs on its own and new software can't be trusted until it's tested. So testing and development proceed together until a new version is ready.\n",
    "\n",
    "Good version control software supports a developer's preferred workflow without imposing one particular way of working. Ideally it also works on any platform, rather than dictate what operating system or tool chain developers must use. Great version control systems facilitate a smooth and continuous flow of changes to the code rather than the frustrating and clumsy mechanism of file locking - giving the green light to one developer at the expense of blocking the progress of others.\n",
    "\n",
    "Software teams that do not use any form of version control often run into problems like not knowing which changes that have been made are available to users or the creation of incompatible changes between two unrelated pieces of work that must then be painstakingly untangled and reworked. If you're a developer who has never used version control you may have added versions to your files, perhaps with suffixes like \"final\" or \"latest\" and then had to later deal with a new final version. Perhaps you've commented out code blocks because you want to disable certain functionality without deleting the code, fearing that there may be a use for it later. Version control is a way out of these problems.\n",
    "\n",
    "Version control software is an essential part of the every-day of the modern software team's professional practices. Individual software developers who are accustomed to working with a capable version control system in their teams typically recognize the incredible value version control also gives them even on small solo projects. Once accustomed to the powerful benefits of version control systems, many developers wouldn't consider working without it even for non-software projects.\n",
    "\n",
    "### Benefits of version control systems\n",
    "\n",
    "Developing software without using version control is risky, like not having backups. Version control can also enable developers to move faster and it allows software teams to preserve efficiency and agility as the team scales to include more developers.\n",
    "\n",
    "Version Control Systems (VCS) have seen great improvements over the past few decades and some are better than others. VCS are sometimes known as SCM (Source Code Management) tools or RCS (Revision Control System). One of the most popular VCS tools in use today is called Git. Git is a Distributed VCS, a category known as DVCS, more on that later. Like many of the most popular VCS systems available today, Git is free and open source. Regardless of what they are called, or which system is used, the primary benefits you should expect from version control are as follows.\n",
    "\n",
    "1. A complete long-term change history of every file. This means every change made by many individuals over the years. Changes include the creation and deletion of files as well as edits to their contents. Different VCS tools differ on how well they handle renaming and moving of files. This history should also include the author, date and written notes on the purpose of each change. Having the complete history enables going back to previous versions to help in root cause analysis for bugs and it is crucial when needing to fix problems in older versions of software. If the software is being actively worked on, almost everything can be considered an \"older version\" of the software.\n",
    "\n",
    "2. Branching and merging. Having team members work concurrently is a no-brainer, but even individuals working on their own can benefit from the ability to work on independent streams of changes. Creating a \"branch\" in VCS tools keeps multiple streams of work independent from each other while also providing the facility to merge that work back together, enabling developers to verify that the changes on each branch do not conflict. Many software teams adopt a practice of branching for each feature or perhaps branching for each release, or both. There are many different workflows that teams can choose from when they decide how to make use of branching and merging facilities in VCS.\n",
    "\n",
    "3. Traceability. Being able to trace each change made to the software and connect it to project management and bug tracking software such as Jira, and being able to annotate each change with a message describing the purpose and intent of the change can help not only with root cause analysis and other forensics. Having the annotated history of the code at your fingertips when you are reading the code, trying to understand what it is doing and why it is so designed can enable developers to make correct and harmonious changes that are in accord with the intended long-term design of the system. This can be especially important for working effectively with legacy code and is crucial in enabling developers to estimate future work with any accuracy.\n",
    "\n",
    "## What is Git\n",
    "### Performance Security Flexibility Version control with Git\n",
    "By far, the most widely used modern version control system in the world today is Git. Git is a mature, actively maintained open source project originally developed in 2005 by Linus Torvalds, the famous creator of the Linux operating system kernel. A staggering number of software projects rely on Git for version control, including commercial projects as well as open source. Developers who have worked with Git are well represented in the pool of available software development talent and it works well on a wide range of operating systems and IDEs (Integrated Development Environments).\n",
    "\n",
    "Having a distributed architecture, Git is an example of a DVCS (hence Distributed Version Control System). Rather than have only one single place for the full version history of the software as is common in once-popular version control systems like CVS or Subversion (also known as SVN), in Git, every developer's working copy of the code is also a repository that can contain the full history of all changes.\n",
    "\n",
    "In addition to being distributed, Git has been designed with performance, security and flexibility in mind.\n",
    "\n",
    "### Performance\n",
    "\n",
    "The raw performance characteristics of Git are very strong when compared to many alternatives. Committing new changes, branching, merging and comparing past versions are all optimized for performance. The algorithms implemented inside Git take advantage of deep knowledge about common attributes of real source code file trees, how they are usually modified over time and what the access patterns are.\n",
    "\n",
    "Unlike some version control software, Git is not fooled by the names of the files when determining what the storage and version history of the file tree should be, instead, Git focuses on the file content itself. After all, source code files are frequently renamed, split, and rearranged. The object format of Git's repository files uses a combination of delta encoding (storing content differences), compression and explicitly stores directory contents and version metadata objects.\n",
    "\n",
    "Being distributed enables significant performance benefits as well.\n",
    "\n",
    "For example, say a developer, Alice, makes changes to source code, adding a feature for the upcoming 2.0 release, then commits those changes with descriptive messages. She then works on a second feature and commits those changes too. Naturally these are stored as separate pieces of work in the version history. Alice then switches to the version 1.3 branch of the same software to fix a bug that affects only that older version. The purpose of this is to enable Alice's team to ship a bug fix release, version 1.3.1, before version 2.0 is ready. Alice can then return to the 2.0 branch to continue working on new features for 2.0 and all of this can occur without any network access and is therefore fast and reliable. She could even do it on an airplane. When she is ready to send all of the individually committed changes to the remote repository, Alice can \"push\" them in one command.\n",
    "\n",
    "### Security\n",
    "\n",
    "Git has been designed with the integrity of managed source code as a top priority. The content of the files as well as the true relationships between files and directories, versions, tags and commits, all of these objects in the Git repository are secured with a cryptographically secure hashing algorithm called SHA1. This protects the code and the change history against both accidental and malicious change and ensures that the history is fully traceable.\n",
    "\n",
    "With Git, you can be sure you have an authentic content history of your source code.\n",
    "\n",
    "Some other version control systems have no protections against secret alteration at a later date. This can be a serious information security vulnerability for any organization that relies on software development.\n",
    "\n",
    "### Flexibility\n",
    "\n",
    "One of Git's key design objectives is flexibility. Git is flexible in several respects: in support for various kinds of nonlinear development workflows, in its efficiency in both small and large projects and in its compatibility with many existing systems and protocols.\n",
    "\n",
    "Git has been designed to support branching and tagging as first-class citizens (unlike SVN) and operations that affect branches and tags (such as merging or reverting) are also stored as part of the change history. Not all version control systems feature this level of tracking.\n",
    "\n",
    "### Version control with Git\n",
    "\n",
    "Git is the best choice for most software teams today. While every team is different and should do their own analysis, here are the main reasons why version control with Git is preferred over alternatives:\n",
    "\n",
    "### Git is good\n",
    "Git has the functionality, performance, security and flexibility that most teams and individual developers need. These attributes of Git are detailed above. In side-by-side comparisons with most other alternatives, many teams find that Git is very favorable.\n",
    "\n",
    "### Git is a de facto standard\n",
    "Git is the most broadly adopted tool of its kind. This is makes Git attractive for the following reasons. At Atlassian, nearly all of our project source code is managed in Git.\n",
    "\n",
    "Vast numbers of developers already have Git experience and a significant proportion of college graduates may have experience with only Git. While some organizations may need to climb the learning curve when migrating to Git from another version control system, many of their existing and future developers do not need to be trained on Git.\n",
    "\n",
    "In addition to the benefits of a large talent pool, the predominance of Git also means that many third party software tools and services are already integrated with Git including IDEs, and our own tools like DVCS desktop client Sourcetree, issue and project tracking software, Jira, and code hosting service, Bitbucket.\n",
    "\n",
    "If you are an inexperienced developer wanting to build up valuable skills in software development tools, when it comes to version control, Git should be on your list.\n",
    "\n",
    "### Git is a quality open source project\n",
    "Git is a very well supported open source project with over a decade of solid stewardship. The project maintainers have shown balanced judgment and a mature approach to meeting the long term needs of its users with regular releases that improve usability and functionality. The quality of the open source software is easily scrutinized and countless businesses rely heavily on that quality.\n",
    "\n",
    "Git enjoys great community support and a vast user base. Documentation is excellent and plentiful, including books, tutorials and dedicated web sites. There are also podcasts and video tutorials.\n",
    "\n",
    "Being open source lowers the cost for hobbyist developers as they can use Git without paying a fee. For use in open-source projects, Git is undoubtedly the successor to the previous generations of successful open source version control systems, SVN and CVS.\n",
    "\n",
    "### Criticism of Git\n",
    "One common criticism of Git is that it can be difficult to learn. Some of the terminology in Git will be novel to newcomers and for users of other systems, the Git terminology may be different, for example, revert in Git has a different meaning than in SVN or CVS. Nevertheless, Git is very capable and provides a lot of power to its users. Learning to use that power can take some time, however once it has been learned, that power can be used by the team to increase their development speed.\n",
    "\n",
    "For those teams coming from a non-distributed VCS, having a central repository may seem like a good thing that they don't want to lose. However, while Git has been designed as a distributed version control system (DVCS), with Git, you can still have an official, canonical repository where all changes to the software must be stored. With Git, because each developer's repository is complete, their work doesn't need to be constrained by the availability and performance of the \"central\" server. During outages or while offline, developers can still consult the full project history. Because Git is flexible as well as being distributed, you can work the way you are accustomed to but gain the additional benefits of Git, some of which you may not even realise you're missing.\n",
    "\n",
    "Now that you understand what version control is, what Git is and why software teams should use it, read on to discover the benefits Git can provide across the whole organization.\n",
    "\n",
    "## Why Git for your organization\n",
    "Git for developers Git for marketing Git for product management Git for designers Git for customer support Git for human resources Git for anyone managing a budget\n",
    "Switching from a centralized version control system to Git changes the way your development team creates software. And, if you’re a company that relies on its software for mission-critical applications, altering your development workflow impacts your entire business.\n",
    "\n"
   ]
  },
  {
   "cell_type": "markdown",
   "metadata": {},
   "source": [
    "<table style=\"width:100%\">\n",
    "  <tr>\n",
    "    <th><img src=\"photos/git1.png\" alt=\"Drawing\" style=\"width:600px;\"/></th>\n",
    "  </tr>\n",
    "</table>"
   ]
  },
  {
   "cell_type": "markdown",
   "metadata": {},
   "source": [
    "## Git for developers\n",
    "\n",
    "### Feature Branch Workflow\n",
    "One of the biggest advantages of Git is its branching capabilities. Unlike centralized version control systems, Git branches are cheap and easy to merge. This facilitates the feature branch workflow popular with many Git users.\n",
    "\n"
   ]
  },
  {
   "cell_type": "markdown",
   "metadata": {},
   "source": [
    "<table style=\"width:100%\">\n",
    "  <tr>\n",
    "    <th><img src=\"photos/git2.png\" alt=\"Drawing\" style=\"width:600px;\"/></th>\n",
    "  </tr>\n",
    "</table>"
   ]
  },
  {
   "cell_type": "markdown",
   "metadata": {},
   "source": [
    "Feature branches provide an isolated environment for every change to your codebase. When a developer wants to start working on something—no matter how big or small—they create a new branch. This ensures that the master branch always contains production-quality code.\n",
    "\n",
    "Using feature branches is not only more reliable than directly editing production code, but it also provides organizational benefits. They let you represent development work at the same granularity as the your agile backlog. For example, you might implement a policy where each Jira ticket is addressed in its own feature branch.\n",
    "\n",
    "## Distributed Development\n",
    "In SVN, each developer gets a working copy that points back to a single central repository. Git, however, is a distributed version control system. Instead of a working copy, each developer gets their own local repository, complete with a full history of commits.\n",
    "\n"
   ]
  },
  {
   "cell_type": "markdown",
   "metadata": {},
   "source": [
    "<table style=\"width:100%\">\n",
    "  <tr>\n",
    "    <th><img src=\"photos/git4.png\" alt=\"Drawing\" style=\"width:600px;\"/></th>\n",
    "  </tr>\n",
    "</table>"
   ]
  },
  {
   "cell_type": "markdown",
   "metadata": {},
   "source": [
    "Having a full local history makes Git fast, since it means you don’t need a network connection to create commits, inspect previous versions of a file, or perform diffs between commits.\n",
    "\n",
    "Distributed development also makes it easier to scale your engineering team. If someone breaks the production branch in SVN, other developers can’t check in their changes until it’s fixed. With Git, this kind of blocking doesn’t exist. Everybody can continue going about their business in their own local repositories.\n",
    "\n",
    "And, similar to feature branches, distributed development creates a more reliable environment. Even if a developer obliterates their own repository, they can simply clone someone else’s and start anew.\n",
    "\n",
    "## Pull Requests\n",
    "Many source code management tools such as Bitbucket enhance core Git functionality with pull requests. A pull request is a way to ask another developer to merge one of your branches into their repository. This not only makes it easier for project leads to keep track of changes, but also lets developers initiate discussions around their work before integrating it with the rest of the codebase."
   ]
  },
  {
   "cell_type": "markdown",
   "metadata": {},
   "source": [
    "<table style=\"width:100%\">\n",
    "  <tr>\n",
    "    <th><img src=\"photos/git5.png\" alt=\"Drawing\" style=\"width:600px;\"/></th>\n",
    "  </tr>\n",
    "</table>"
   ]
  },
  {
   "cell_type": "markdown",
   "metadata": {},
   "source": [
    "Since they’re essentially a comment thread attached to a feature branch, pull requests are extremely versatile. When a developer gets stuck with a hard problem, they can open a pull request to ask for help from the rest of the team. Alternatively, junior developers can be confident that they aren’t destroying the entire project by treating pull requests as a formal code review.\n",
    "\n",
    "### Community\n",
    "In many circles, Git has come to be the expected version control system for new projects. If your team is using Git, odds are you won’t have to train new hires on your workflow, because they’ll already be familiar with distributed development.\n",
    "\n"
   ]
  },
  {
   "cell_type": "markdown",
   "metadata": {},
   "source": [
    "<table style=\"width:100%\">\n",
    "  <tr>\n",
    "    <th><img src=\"photos/git6.png\" alt=\"Drawing\" style=\"width:600px;\"/></th>\n",
    "  </tr>\n",
    "</table>"
   ]
  },
  {
   "cell_type": "markdown",
   "metadata": {},
   "source": [
    "addition, Git is very popular among open source projects. This means it’s easy to leverage 3rd-party libraries and encourage others to fork your own open source code.\n",
    "\n",
    "### Faster Release Cycle\n",
    "The ultimate result of feature branches, distributed development, pull requests, and a stable community is a faster release cycle. These capabilities facilitate an agile workflow where developers are encouraged to share smaller changes more frequently. In turn, changes can get pushed down the deployment pipeline faster than the monolithic releases common with centralized version control systems.\n",
    "\n"
   ]
  },
  {
   "cell_type": "markdown",
   "metadata": {},
   "source": [
    "<table style=\"width:100%\">\n",
    "  <tr>\n",
    "    <th><img src=\"photos/git7.png\" alt=\"Drawing\" style=\"width:600px;\"/></th>\n",
    "  </tr>\n",
    "</table>"
   ]
  },
  {
   "cell_type": "markdown",
   "metadata": {},
   "source": [
    "As you might expect, Git works very well with continuous integration and continuous delivery environments. Git hooks allow you to run scripts when certain events occur inside of a repository, which lets you automate deployment to your heart’s content. You can even build or deploy code from specific branches to different servers.\n",
    "\n",
    "For example, you might want to configure Git to deploy the most recent commit from the develop branch to a test server whenever anyone merges a pull request into it. Combining this kind of build automation with peer review means you have the highest possible confidence in your code as it moves from development to staging to production.\n",
    "\n",
    "## Git for marketing\n",
    "\n",
    "To understand how switching to Git affects your company’s marketing activities, imagine your development team has three distinct changes scheduled for completion in the next few weeks:\n",
    "\n",
    "The entire team is finishing up a game-changing feature that they’ve been working on for the last 6 months.\n",
    "Mary is implementing a smaller, unrelated feature that only impacts existing customers.\n",
    "Rick is making some much-needed updates to the user interface.\n",
    "If you’re using a traditional development workflow that relies on a centralized VCS, all of these changes would probably be rolled up into a single release. Marketing can only make one announcement that focuses primarily on the game-changing feature, and the marketing potential of the other two updates is effectively ignored.\n",
    "\n",
    "The shorter development cycle facilitated by Git makes it much easier to divide these into individual releases. This gives marketers more to talk about, more often. In the above scenario, marketing can build out three campaigns that revolve around each feature, and thus target very specific market segments.\n",
    "\n"
   ]
  },
  {
   "cell_type": "markdown",
   "metadata": {},
   "source": [
    "<table style=\"width:100%\">\n",
    "  <tr>\n",
    "    <th><img src=\"photos/git8.png\" alt=\"Drawing\" style=\"width:600px;\"/></th>\n",
    "  </tr>\n",
    "</table>"
   ]
  },
  {
   "cell_type": "markdown",
   "metadata": {},
   "source": [
    "For instance, they might prepare a big PR push for the game changing feature, a corporate blog post and newsletter blurb for Mary’s feature, and some guest posts about Rick’s underlying UX theory for sending to external design blogs. All of these activities can be synchronized with a separate release.\n",
    "\n",
    "## Git for product management\n",
    "\n",
    "The benefits of Git for product management is much the same as for marketing. More frequent releases means more frequent customer feedback and faster updates in reaction to that feedback. Instead of waiting for the next release 8 weeks from now, you can push a solution out to customers as quickly as your developers can write the code.\n",
    "\n"
   ]
  },
  {
   "cell_type": "markdown",
   "metadata": {},
   "source": [
    "<table style=\"width:100%\">\n",
    "  <tr>\n",
    "    <th><img src=\"photos/git9.png\" alt=\"Drawing\" style=\"width:600px;\"/></th>\n",
    "  </tr>\n",
    "</table>"
   ]
  },
  {
   "cell_type": "markdown",
   "metadata": {},
   "source": [
    "The feature branch workflow also provides flexibility when priorities change. For instance, if you’re halfway through a release cycle and you want to postpone one feature in lieu of another time-critical one, it’s no problem. That initial feature can sit around in its own branch until engineering has time to come back to it.\n",
    "\n",
    "This same functionality makes it easy to manage innovation projects, beta tests, and rapid prototypes as independent codebases.\n",
    "\n",
    "## Git for designers\n",
    "\n",
    "Feature branches lend themselves to rapid prototyping. Whether your UX/UI designers want to implement an entirely new user flow or simply replace some icons, checking out a new branch gives them a sandboxed environment to play with. This lets designers see how their changes will look in a real working copy of the product without the threat of breaking existing functionality.\n",
    "\n"
   ]
  },
  {
   "cell_type": "markdown",
   "metadata": {},
   "source": [
    "<table style=\"width:100%\">\n",
    "  <tr>\n",
    "    <th><img src=\"photos/git10.png\" alt=\"Drawing\" style=\"width:600px;\"/></th>\n",
    "  </tr>\n",
    "</table>"
   ]
  },
  {
   "cell_type": "markdown",
   "metadata": {},
   "source": [
    "Encapsulating user interface changes like this makes it easy to present updates to other stakeholders. For example, if the director of engineering wants to see what the design team has been working on, all they have to do is tell the director to check out the corresponding branch.\n",
    "\n",
    "Pull requests take this one step further and provide a formal place for interested parties to discuss the new interface. Designers can make any necessary changes, and the resulting commits will show up in the pull request. This invites everybody to participate in the iteration process.\n",
    "\n",
    "Perhaps the best part of prototyping with branches is that it’s just as easy to merge the changes into production as it is to throw them away. There’s no pressure to do either one. This encourages designers and UI developers to experiment while ensuring that only the best ideas make it through to the customer.\n",
    "\n",
    "## Git for customer support\n",
    "\n",
    "Customer support and customer success often have a different take on updates than product managers. When a customer calls them up, they’re usually experiencing some kind of problem. If that problem is caused by your company’s software, a bug fix needs to be pushed out as soon as possible.\n",
    "\n",
    "Git’s streamlined development cycle avoids postponing bug fixes until the next monolithic release. A developer can patch the problem and push it directly to production. Faster fixes means happier customers and fewer repeat support tickets. Instead of being stuck with, “Sorry, we’ll get right on that” your customer support team can start responding with “We’ve already fixed it!\n",
    "\n",
    "## Git for human resources\n",
    "\n",
    "To a certain extent, your software development workflow determines who you hire. It always helps to hire engineers that are familiar with your technologies and workflows, but using Git also provides other advantages.\n",
    "\n",
    "Employees are drawn to companies that provide career growth opportunities, and understanding how to leverage Git in both large and small organizations is a boon to any programmer. By choosing Git as your version control system, you’re making the decision to attract forward-looking developers.\n",
    "\n",
    "## Git for anyone managing a budget\n",
    "\n",
    "Git is all about efficiency. For developers, it eliminates everything from the time wasted passing commits over a network connection to the man hours required to integrate changes in a centralized version control system. It even makes better use of junior developers by giving them a safe environment to work in. All of this affects the bottom line of your engineering department.\n",
    "\n"
   ]
  },
  {
   "cell_type": "markdown",
   "metadata": {},
   "source": [
    "<table style=\"width:100%\">\n",
    "  <tr>\n",
    "    <th><img src=\"photos/git11.png\" alt=\"Drawing\" style=\"width:600px;\"/></th>\n",
    "  </tr>\n",
    "</table>"
   ]
  },
  {
   "cell_type": "markdown",
   "metadata": {},
   "source": [
    "But, don’t forget that these efficiencies also extend outside your development team. They prevent marketing from pouring energy into collateral for features that aren’t popular. They let designers test new interfaces on the actual product with little overhead. They let you react to customer complaints immediately.\n",
    "\n",
    "Being agile is all about finding out what works as quickly as possible, magnifying efforts that are successful, and eliminating ones that aren’t. Git serves as a multiplier for all your business activities by making sure every department is doing their job more efficiently.\n",
    "\n",
    "## Setting up a repository\n",
    "git init git clone git config\n",
    "This tutorial provides an overview of how to set up a repository (repo) under Git version control. This resource will walk you through initializing a Git repository for a new or existing project. Included below are workflow examples of repositories both created locally and cloned from remote repositories. This guide assumes a basic familiarity with a command-line interface.\n",
    "\n",
    "The high level points this guide will cover are:\n",
    "\n",
    "- Initializing a new Git repo\n",
    "- Cloning an existing Git repo\n",
    "- Committing a modified version of a file to the repo\n",
    "- Configuring a Git repo for remote collaboration\n",
    "- Common Git version control commands\n",
    "\n",
    "By the end of this module, you should be able to create a Git repo, use common Git commands, commit a modified file, view your project’s history and configure a connection to a Git hosting service (Bitbucket).\n",
    "\n",
    "## What is a Git repository?\n",
    "\n",
    "A Git repository is a virtual storage of your project. It allows you to save versions of your code, which you can access when needed. \n",
    "\n",
    "## Initializing a new repository: git init\n",
    "\n",
    "To create a new repo, you'll use the git init command. git init is a one-time command you use during the initial setup of a new repo. Executing this command will create a new .git subdirectory in your current working directory. This will also create a new master branch. \n",
    "\n",
    "### Versioning an existing project with a new git repository\n",
    "This example assumes you already have an existing project folder that you would like to create a repo within. You'll first cd to the root project folder and then execute the git init command.\n",
    "\n",
    "    cd /path/to/your/existing/code git init\n",
    "\n",
    "Pointing git init to an existing project directory will execute the same initialization setup as mentioned above, but scoped to that project directory.\n",
    "\n",
    "    git init \n",
    "\n",
    "## Cloning an existing repository: git clone\n",
    "\n",
    "If a project has already been set up in a central repository, the clone command is the most common way for users to obtain a local development clone. Like git init, cloning is generally a one-time operation. Once a developer has obtained a working copy, all version control operations are managed through their local repository.\n",
    "\n",
    " \n",
    "    git clone \n",
    "git clone is used to create a copy or clone of remote repositories. You pass git clone a repository URL. Git supports a few different network protocols and corresponding URL formats. In this example, we'll be using the Git SSH protocol. Git SSH URLs follow a template of: \n",
    "\n",
    "git@HOSTNAME:USERNAME/REPONAME.git\n",
    "\n",
    "An example Git SSH URL would be: \n",
    "\n",
    "git@bitbucket.org:rhyolight/javascript-data-store.git \n",
    "\n",
    "where the template values match:\n",
    "\n",
    "- HOSTNAME: bitbucket.org\n",
    "- USERNAME: rhyolight\n",
    "- REPONAME: javascript-data-store\n",
    "\n",
    "When executed, the latest version of the remote repo files on the master branch will be pulled down and added to a new folder. The new folder will be named after the REPONAME in this case javascript-data-store. The folder will contain the full history of the remote repository and a newly created master branch.\n",
    "\n",
    "## Saving changes to the repository: git add and git commit\n",
    "\n",
    "Now that you have a repository cloned or initialized, you can commit file version changes to it. The following example assumes you have set up a project at /path/to/project. The steps being taken in this example are:\n",
    "\n",
    "- Change directories to /path/to/project\n",
    "- Create a new file CommitTest.txt with contents ~\"test content for git tutorial\"~\n",
    "- git add CommitTest.txt to the repository staging area\n",
    "- Create a new commit with a message describing what work was done in the commit\n",
    " \n",
    "    cd /path/to/project echo \"test content for git tutorial\" >> CommitTest.txt git add CommitTest.txt git commit -m \"added CommitTest.txt to the repo\"\n",
    "    \n",
    "## Repo-to-repo collaboration: git push\n",
    "\n",
    "It’s important to understand that Git’s idea of a “working copy” is very different from the working copy you get by checking out source code from an SVN repository. Unlike SVN, Git makes no distinction between the working copies and the central repository—they're all full-fledged Git repositories.\n",
    "\n",
    "This makes collaborating with Git fundamentally different than with SVN. Whereas SVN depends on the relationship between the central repository and the working copy, Git’s collaboration model is based on repository-to-repository interaction. Instead of checking a working copy into SVN’s central repository, you push or pull commits from one repository to another.\n",
    "\n",
    "Of course, there’s nothing stopping you from giving certain Git repos special meaning. For example, by simply designating one Git repo as the “central” repository, it’s possible to replicate a centralized workflow using Git. This is accomplished through conventions rather than being hardwired into the VCS itself.\n",
    "\n",
    "### Bare vs. cloned repositories\n",
    "If you used git clone in the previous \"Initializing a new Repository\" section to set up your local repository, your repository is already configured for remote collaboration. git clone will automatically configure your repo with a remote pointed to the Git URL you cloned it from. This means that once you make changes to a file and commit them, you can git push those changes to the remote repository.\n",
    "\n",
    "If you used git init to make a fresh repo, you'll have no remote repo to push changes to. A common pattern when initializing a new repo is to go to a hosted Git service like Bitbucket and create a repo there. The service will provide a Git URL that you can then add to your local Git repository and git push to the hosted repo. Once you have created a remote repo with your service of choice you will need to update your local repo with a mapping. We discuss this process in the Configuration & Set Up guide below.\n",
    "\n",
    "If you prefer to host your own remote repo, you'll need to set up a \"Bare Repository.\" Both git init and git clone accept a --bare argument. The most common use case for bare repo is to create a remote central Git repository\n",
    "\n",
    "## Configuration & set up: git config\n",
    "\n",
    "Once you have a remote repo setup, you will need to add a remote repo url to your local git config, and set an upstream branch for your local branches. The git remote command offers such utility.\n",
    "\n",
    " \n",
    "    git remote add\n",
    "    \n",
    "This command will map remote repository at  to a ref in your local repo under . Once you have mapped the remote repo you can push local branches to it.\n",
    "\n",
    "    git push -u  \n",
    "\n",
    "This command will push the local repo branch under  to the remote repo at .\n",
    "\n",
    "For more in-depth look at git remote, see the Git remote page.\n",
    "\n",
    "In addition to configuring a remote repo URL, you may also need to set global Git configuration options such as username, or email. The git config command lets you configure your Git installation (or an individual repository) from the command line. This command can define everything from user info, to preferences, to the behavior of a repository. Several common configuration options are listed below.\n",
    "\n",
    "Git stores configuration options in three separate files, which lets you scope options to individual repositories (local), user (Global), or the entire system (system):\n",
    "\n",
    "- Local: /.git/config – Repository-specific settings.\n",
    "- Global: /.gitconfig – User-specific settings. This is where options set with the --global flag are stored.\n",
    "- System: $(prefix)/etc/gitconfig – System-wide settings.\n",
    "\n",
    "Define the author name to be used for all commits in the current repository. Typically, you’ll want to use the --global flag to set configuration options for the current user.\n",
    "\n",
    " \n",
    "    git config --global user.name \n",
    "    \n",
    "## Saving changes\n",
    "\n",
    "git add git commit git diff git stash .gitignore\n",
    "When working in Git, or other version control systems, the concept of \"saving\" is a more nuanced process than saving in a word processor or other traditional file editing applications. The traditional software expression of \"saving\" is synonymous with the Git term \"committing\". A commit is the Git equivalent of a \"save\". Traditional saving should be thought of as a file system operation that is used to overwrite an existing file or write a new file. Alternatively, Git committing is an operation that acts upon a collection of files and directories.\n",
    "\n",
    "Saving changes in Git vs SVN is also a different process. SVN Commits or 'check-ins' are operations that make a remote push to a centralized server. This means an SVN commit needs Internet access in order to fully 'save' project changes. Git commits can be captured and built up locally, then pushed to a remote server as needed using the git push -u origin master command. The difference between the two methods is a fundamental difference between architecture designs. Git is a distributed application model whereas SVN is a centralized model. Distributed applications are generally more robust as they do not have a single point of failure like a centralized server.\n",
    "\n",
    "The commands: git add, git status, and git commit are all used in combination to save a snapshot of a Git project's current state.\n",
    "\n",
    "Git has an additional saving mechanism called 'the stash'. The stash is an ephemeral storage area for changes that are not ready to be committed. The stash operates on the working directory, the first of the three trees and has extensive usage options. To learn more visit the git stash page.\n",
    "\n",
    "A Git repository can be configured to ignore specific files or directories. This will prevent Git from saving changes to any ignored content. Git has multiple methods of configuration that manage the ignore list. Git ignore configure is discussed in further detail on the git ignore page.\n",
    "\n",
    "## git add\n",
    "\n",
    "The git add command adds a change in the working directory to the staging area. It tells Git that you want to include updates to a particular file in the next commit. However, git add doesn't really affect the repository in any significant way—changes are not actually recorded until you run git commit.\n",
    "\n",
    "In conjunction with these commands, you'll also need git status to view the state of the working directory and the staging area.\n",
    "\n",
    "## How it works\n",
    "\n",
    "The git add and git commit commands compose the fundamental Git workflow. These are the two commands that every Git user needs to understand, regardless of their team’s collaboration model. They are the means to record versions of a project into the repository’s history.\n",
    "\n",
    "Developing a project revolves around the basic edit/stage/commit pattern. First, you edit your files in the working directory. When you’re ready to save a copy of the current state of the project, you stage changes with git add. After you’re happy with the staged snapshot, you commit it to the project history with git commit. The git reset command is used to undo a commit or staged snapshot.\n",
    "\n",
    "In addition to git add and git commit, a third command git push is essential for a complete collaborative Git workflow. git push is utilized to send the committed changes to remote repositories for collaboration. This enables other team members to access a set of saved changes."
   ]
  },
  {
   "cell_type": "markdown",
   "metadata": {},
   "source": [
    "<table style=\"width:100%\">\n",
    "  <tr>\n",
    "    <th><img src=\"photos/git12.png\" alt=\"Drawing\" style=\"width:600px;\"/></th>\n",
    "  </tr>\n",
    "</table>"
   ]
  },
  {
   "cell_type": "markdown",
   "metadata": {},
   "source": [
    "## git syncing\n",
    "### git remote git fetch git push git pull\n",
    "SVN uses a single centralized repository to serve as the communication hub for developers, and collaboration takes place by passing changesets between the developers’ working copies and the central repository. This is different from Git's distributed collaboration model, which gives every developer their own copy of the repository, complete with its own local history and branch structure. Users typically need to share a series of commits rather than a single changeset. Instead of committing a changeset from a working copy to the central repository, Git lets you share entire branches between repositories.\n",
    "\n",
    "The git remote command is one piece of the broader system which is responsible for syncing changes. Records registered through the git remote command are used in conjunction with the git fetch, git push, and git pull commands. These commands all have their own syncing responsibilities which can be explored on the corresponding links.\n",
    "\n",
    "### Git remote\n",
    "\n",
    "The git remote command lets you create, view, and delete connections to other repositories. Remote connections are more like bookmarks rather than direct links into other repositories. Instead of providing real-time access to another repository, they serve as convenient names that can be used to reference a not-so-convenient URL.\n",
    "\n",
    "For example, the following diagram shows two remote connections from your repo into the central repo and another developer’s repo. Instead of referencing them by their full URLs, you can pass the origin and john shortcuts to other Git commands."
   ]
  },
  {
   "cell_type": "markdown",
   "metadata": {},
   "source": [
    "<table style=\"width:100%\">\n",
    "  <tr>\n",
    "    <th><img src=\"photos/git13.png\" alt=\"Drawing\" style=\"width:600px;\"/></th>\n",
    "  </tr>\n",
    "</table>"
   ]
  },
  {
   "cell_type": "markdown",
   "metadata": {},
   "source": [
    "## Git remote usage overview\n",
    "\n",
    "The git remote command is essentially an interface for managing a list of remote entries that are stored in the repository's ./.git/config file. The following commands are used to view the current state of the remote list.\n",
    "\n",
    "## Viewing git remote configurations\n",
    "\n",
    "    git remote\n",
    "List the remote connections you have to other repositories.\n",
    "\n",
    "    git remote -v\n",
    "    \n",
    "Same as the above command, but include the URL of each connection.\n",
    "\n",
    "## Creating and modifying git remote configurations\n",
    "\n",
    "The git remote command is also a convenience or 'helper' method for modifying a repo's ./.git/config file. The commands presented below let you manage connections with other repositories. The following commands will modify the repo's /.git/config file. The result of the following commands can also be achieved by directly editing the ./.git/config file with a text editor.\n",
    "\n",
    "    git remote add <name> <url>\n",
    "Create a new connection to a remote repository. After adding a remote, you’ll be able to use as a convenient shortcut for in other Git commands.\n",
    "\n",
    "    git remote rm <name>\n",
    "Remove the connection to the remote repository called .\n",
    "\n",
    "    git remote rename <old-name> <new-name>\n",
    "Rename a remote connection from to .\n",
    "\n",
    "## Git Branch\n",
    "\n",
    "This document is an in-depth review of the git branch command and a discussion of the overall Git branching model. Branching is a feature available in most modern version control systems. Branching in other VCS's can be an expensive operation in both time and disk space. In Git, branches are a part of your everyday development process. Git branches are effectively a pointer to a snapshot of your changes. When you want to add a new feature or fix a bug—no matter how big or how small—you spawn a new branch to encapsulate your changes. This makes it harder for unstable code to get merged into the main code base, and it gives you the chance to clean up your future's history before merging it into the main branch.\n",
    "\n"
   ]
  },
  {
   "cell_type": "markdown",
   "metadata": {},
   "source": [
    "<table style=\"width:100%\">\n",
    "  <tr>\n",
    "    <th><img src=\"photos/git14.png\" alt=\"Drawing\" style=\"width:600px;\"/></th>\n",
    "  </tr>\n",
    "</table>"
   ]
  },
  {
   "cell_type": "markdown",
   "metadata": {},
   "source": [
    "The diagram above visualizes a repository with two isolated lines of development, one for a little feature, and one for a longer-running feature. By developing them in branches, it’s not only possible to work on both of them in parallel, but it also keeps the main master branch free from questionable code.\n",
    "\n",
    "The implementation behind Git branches is much more lightweight than other version control system models. Instead of copying files from directory to directory, Git stores a branch as a reference to a commit. In this sense, a branch represents the tip of a series of commits—it's not a container for commits. The history for a branch is extrapolated through the commit relationships.\n",
    "\n",
    "As you read, remember that Git branches aren't like SVN branches. Whereas SVN branches are only used to capture the occasional large-scale development effort, Git branches are an integral part of your everyday workflow. The following content will expand on the internal Git branching architecture.\n",
    "\n",
    "## How it works\n",
    "\n",
    "A branch represents an independent line of development. Branches serve as an abstraction for the edit/stage/commit process. You can think of them as a way to request a brand new working directory, staging area, and project history. New commits are recorded in the history for the current branch, which results in a fork in the history of the project.\n",
    "\n",
    "The git branch command lets you create, list, rename, and delete branches. It doesn’t let you switch between branches or put a forked history back together again. For this reason, git branch is tightly integrated with the git checkout and git merge commands.\n",
    "\n",
    "## Common Options\n",
    "\n",
    "    git branch\n",
    "List all of the branches in your repository. This is synonymous with git branch --list.\n",
    "\n",
    "    git branch \n",
    "Create a new branch called . This does not check out the new branch.\n",
    "\n",
    "    git branch -d \n",
    "Delete the specified branch. This is a “safe” operation in that Git prevents you from deleting the branch if it has unmerged changes.\n",
    "\n",
    "    git branch -D \n",
    "Force delete the specified branch, even if it has unmerged changes. This is the command to use if you want to permanently throw away all of the commits associated with a particular line of development.\n",
    "\n",
    "    git branch -m \n",
    "Rename the current branch to .\n",
    "\n",
    " \n",
    "    git branch -a\n",
    "List all remote branches. \n",
    "\n",
    "## Creating Branches\n",
    "\n",
    "It's important to understand that branches are just pointers to commits. When you create a branch, all Git needs to do is create a new pointer, it doesn’t change the repository in any other way. If you start with a repository that looks like this:\n",
    "\n"
   ]
  },
  {
   "cell_type": "markdown",
   "metadata": {},
   "source": [
    "<table style=\"width:100%\">\n",
    "  <tr>\n",
    "    <th><img src=\"photos/git15.png\" alt=\"Drawing\" style=\"width:600px;\"/></th>\n",
    "  </tr>\n",
    "</table>"
   ]
  },
  {
   "cell_type": "markdown",
   "metadata": {},
   "source": [
    "Then, you create a branch using the following command:\n",
    "\n",
    "    git branch crazy-experiment\n",
    "The repository history remains unchanged. All you get is a new pointer to the current commit:"
   ]
  },
  {
   "cell_type": "markdown",
   "metadata": {},
   "source": [
    "<table style=\"width:100%\">\n",
    "  <tr>\n",
    "    <th><img src=\"photos/git16.png\" alt=\"Drawing\" style=\"width:600px;\"/></th>\n",
    "  </tr>\n",
    "</table>"
   ]
  },
  {
   "cell_type": "markdown",
   "metadata": {},
   "source": [
    "Note that this only creates the new branch. To start adding commits to it, you need to select it with git checkout, and then use the standard git add and git commit commands. \n",
    "\n",
    "## Creating remote branches\n",
    "\n",
    "So far these examples have all demonstrated local branch operations. The git branch command also works on remote branches. In order to operate on remote branches, a remote repo must first be configured and added to the local repo config.\n",
    "\n",
    " \n",
    "    git remote add new-remote-repo https://bitbucket.com/user/repo.git # Add remote repo to local repo config \n",
    "    git push  crazy-experiment~ # pushes the crazy-experiment branch to new-remote-repo\n",
    "This command will push a copy of the local branch crazy-experiment to the remote repo .\n",
    "\n",
    "## Deleting Branches\n",
    "\n",
    "Once you’ve finished working on a branch and have merged it into the main code base, you’re free to delete the branch without losing any history:\n",
    "\n",
    "    git branch -d crazy-experiment\n",
    "However, if the branch hasn’t been merged, the above command will output an error message:\n",
    "\n",
    "error: The branch 'crazy-experiment' is not fully merged. If you are sure you want to delete it, run 'git branch -D crazy-experiment'.\n",
    "This protects you from losing access to that entire line of development. If you really want to delete the branch (e.g., it’s a failed experiment), you can use the capital -D flag:\n",
    "\n",
    "    git branch -D crazy-experiment\n",
    "This deletes the branch regardless of its status and without warnings, so use it judiciously.\n",
    "\n",
    "The previous commands will delete a local copy of a branch. The branch may still exist in remote repos. To delete a remote branch execute the following.\n",
    "\n",
    " \n",
    "    git push origin --delete crazy-experiment\n",
    "Or\n",
    "\n",
    "    git push origin :crazy-experiment\n",
    "This will push a delete signal to the remote origin repository that triggers a delete of the remote crazy-experiment branch.\n",
    "\n",
    "## Managing conflicts\n",
    "The central repository represents the official project, so its commit history should be treated as sacred and immutable. If a developer’s local commits diverge from the central repository, Git will refuse to push their changes because this would overwrite official commits.\n",
    "\n",
    "\n"
   ]
  },
  {
   "cell_type": "markdown",
   "metadata": {},
   "source": [
    "<table style=\"width:100%\">\n",
    "  <tr>\n",
    "    <th><img src=\"photos/git17.png\" alt=\"Drawing\" style=\"width:600px;\"/></th>\n",
    "  </tr>\n",
    "</table>"
   ]
  },
  {
   "cell_type": "markdown",
   "metadata": {},
   "source": [
    "Before the developer can publish their feature, they need to fetch the updated central commits and rebase their changes on top of them. This is like saying, “I want to add my changes to what everyone else has already done.” The result is a perfectly linear history, just like in traditional SVN workflows.\n",
    "\n",
    "If local changes directly conflict with upstream commits, Git will pause the rebasing process and give you a chance to manually resolve the conflicts. The nice thing about Git is that it uses the same git status and git add commands for both generating commits and resolving merge conflicts. This makes it easy for new developers to manage their own merges. Plus, if they get themselves into trouble, Git makes it very easy to abort the entire rebase and try again (or go find help).\n",
    "\n",
    "## Example\n",
    "\n",
    "Let’s take a general example at how a typical small team would collaborate using this workflow. We’ll see how two developers, John and Mary, can work on separate features and share their contributions via a centralized repository.\n",
    "\n"
   ]
  },
  {
   "cell_type": "markdown",
   "metadata": {},
   "source": [
    "<table style=\"width:100%\">\n",
    "  <tr>\n",
    "    <th><img src=\"photos/git18.png\" alt=\"Drawing\" style=\"width:400px;\"/></th>\n",
    "  </tr>\n",
    "</table>"
   ]
  },
  {
   "cell_type": "markdown",
   "metadata": {},
   "source": [
    "In his local repository, John can develop features using the standard Git commit process: edit, stage, and commit.\n",
    "\n",
    "Remember that since these commands create local commits, John can repeat this process as many times as he wants without worrying about what’s going on in the central repository.\n",
    "\n"
   ]
  },
  {
   "cell_type": "markdown",
   "metadata": {},
   "source": [
    "<table style=\"width:100%\">\n",
    "  <tr>\n",
    "    <th><img src=\"photos/git19.png\" alt=\"Drawing\" style=\"width:400px;\"/></th>\n",
    "  </tr>\n",
    "</table>"
   ]
  },
  {
   "cell_type": "markdown",
   "metadata": {},
   "source": [
    "Meanwhile, Mary is working on her own feature in her own local repository using the same edit/stage/commit process. Like John, she doesn’t care what’s going on in the central repository, and she really doesn’t care what John is doing in his local repository, since all local repositories are private.\n",
    "\n"
   ]
  },
  {
   "cell_type": "markdown",
   "metadata": {},
   "source": [
    "<table style=\"width:100%\">\n",
    "  <tr>\n",
    "    <th><img src=\"photos/git20.png\" alt=\"Drawing\" style=\"width:400px;\"/></th>\n",
    "  </tr>\n",
    "</table>"
   ]
  },
  {
   "cell_type": "markdown",
   "metadata": {},
   "source": [
    "Once John finishes his feature, he should publish his local commits to the central repository so other team members can access it. He can do this with the git push command, like so:\n",
    "\n",
    "    git push origin master\n",
    "Remember that origin is the remote connection to the central repository that Git created when John cloned it. The master argument tells Git to try to make the origin’s master branch look like his local master branch. Since the central repository hasn’t been updated since John cloned it, this won’t result in any conflicts and the push will work as expected.\n",
    "\n"
   ]
  },
  {
   "cell_type": "markdown",
   "metadata": {},
   "source": [
    "<table style=\"width:100%\">\n",
    "  <tr>\n",
    "    <th><img src=\"photos/git21.png\" alt=\"Drawing\" style=\"width:400px;\"/></th>\n",
    "  </tr>\n",
    "</table>"
   ]
  },
  {
   "cell_type": "markdown",
   "metadata": {},
   "source": [
    "Let’s see what happens if Mary tries to push her feature after John has successfully published his changes to the central repository. She can use the exact same push command:\n",
    "\n",
    "    git push origin master\n",
    "But, since her local history has diverged from the central repository, Git will refuse the request with a rather verbose error message:\n",
    "\n",
    "    error: failed to push some refs to '/path/to/repo.git' hint: Updates were rejected because the tip of your current branch is behind hint: its remote counterpart. Merge the remote changes (e.g. 'git pull') hint: before pushing again. hint: See the 'Note about fast-forwards' in 'git push --help' for details.\n",
    "This prevents Mary from overwriting official commits. She needs to pull John’s updates into her repository, integrate them with her local changes, and then try again.\n",
    "\n"
   ]
  },
  {
   "cell_type": "markdown",
   "metadata": {},
   "source": [
    "<table style=\"width:100%\">\n",
    "  <tr>\n",
    "    <th><img src=\"photos/git22.png\" alt=\"Drawing\" style=\"width:400px;\"/></th>\n",
    "  </tr>\n",
    "</table>"
   ]
  },
  {
   "cell_type": "markdown",
   "metadata": {},
   "source": [
    "Mary can use git pull to incorporate upstream changes into her repository. This command is sort of like svn update—it pulls the entire upstream commit history into Mary’s local repository and tries to integrate it with her local commits:\n",
    "\n",
    "    git pull --rebase origin master\n",
    "The --rebase option tells Git to move all of Mary’s commits to the tip of the master branch after synchronising it with the changes from the central repository, as shown below:\n",
    "\n"
   ]
  },
  {
   "cell_type": "markdown",
   "metadata": {},
   "source": [
    "<table style=\"width:100%\">\n",
    "  <tr>\n",
    "    <th><img src=\"photos/git23.png\" alt=\"Drawing\" style=\"width:400px;\"/></th>\n",
    "  </tr>\n",
    "</table>"
   ]
  },
  {
   "cell_type": "markdown",
   "metadata": {},
   "source": [
    "The pull would still work if you forgot this option, but you would wind up with a superfluous “merge commit” every time someone needed to synchronize with the central repository. For this workflow, it’s always better to rebase instead of generating a merge commit.\n",
    "\n"
   ]
  },
  {
   "cell_type": "markdown",
   "metadata": {},
   "source": [
    "<table style=\"width:100%\">\n",
    "  <tr>\n",
    "    <th><img src=\"photos/git24.png\" alt=\"Drawing\" style=\"width:400px;\"/></th>\n",
    "  </tr>\n",
    "</table>"
   ]
  },
  {
   "cell_type": "markdown",
   "metadata": {},
   "source": [
    "Rebasing works by transferring each local commit to the updated master branch one at a time. This means that you catch merge conflicts on a commit-by-commit basis rather than resolving all of them in one massive merge commit. This keeps your commits as focused as possible and makes for a clean project history. In turn, this makes it much easier to figure out where bugs were introduced and, if necessary, to roll back changes with minimal impact on the project.\n",
    "\n",
    "If Mary and John are working on unrelated features, it’s unlikely that the rebasing process will generate conflicts. But if it does, Git will pause the rebase at the current commit and output the following message, along with some relevant instructions:\n",
    "\n",
    "    CONFLICT (content): Merge conflict in \n"
   ]
  },
  {
   "cell_type": "markdown",
   "metadata": {},
   "source": [
    "<table style=\"width:100%\">\n",
    "  <tr>\n",
    "    <th><img src=\"photos/git25.png\" alt=\"Drawing\" style=\"width:400px;\"/></th>\n",
    "  </tr>\n",
    "</table>"
   ]
  },
  {
   "cell_type": "markdown",
   "metadata": {},
   "source": [
    "The great thing about Git is that anyone can resolve their own merge conflicts. In our example, Mary would simply run a git status to see where the problem is. Conflicted files will appear in the Unmerged paths section:\n",
    "\n",
    "    Unmerged paths: # (use \"git reset HEAD ...\" to unstage) # (use \"git add/rm ...\" as appropriate to mark resolution) # # both modified: \n",
    "Then, she’ll edit the file(s) to her liking. Once she’s happy with the result, she can stage the file(s) in the usual fashion and let git rebase do the rest:\n",
    "\n",
    "    git add  git rebase --continue\n",
    "And that’s all there is to it. Git will move on to the next commit and repeat the process for any other commits that generate conflicts.\n",
    "\n",
    "If you get to this point and realize and you have no idea what’s going on, don’t panic. Just execute the following command and you’ll be right back to where you started:\n",
    "\n",
    "    git rebase --abort\n"
   ]
  },
  {
   "cell_type": "markdown",
   "metadata": {},
   "source": [
    "<table style=\"width:100%\">\n",
    "  <tr>\n",
    "    <th><img src=\"photos/git26.png\" alt=\"Drawing\" style=\"width:400px;\"/></th>\n",
    "  </tr>\n",
    "</table>"
   ]
  },
  {
   "cell_type": "markdown",
   "metadata": {},
   "source": [
    "After she’s done synchronizing with the central repository, Mary will be able to publish her changes successfully:\n",
    "\n",
    "    git push origin master\n"
   ]
  },
  {
   "cell_type": "code",
   "execution_count": 10,
   "metadata": {},
   "outputs": [
    {
     "data": {
      "text/html": [
       "\n",
       "        <iframe\n",
       "            width=\"1200\"\n",
       "            height=\"800\"\n",
       "            src=\"SWTM-2088_Atlassian-Git-Cheatsheet.pdf\"\n",
       "            frameborder=\"0\"\n",
       "            allowfullscreen\n",
       "            \n",
       "        ></iframe>\n",
       "        "
      ],
      "text/plain": [
       "<IPython.lib.display.IFrame at 0x7f8c84a1df70>"
      ]
     },
     "execution_count": 10,
     "metadata": {},
     "output_type": "execute_result"
    }
   ],
   "source": [
    "from IPython.display import IFrame\n",
    "IFrame(\"SWTM-2088_Atlassian-Git-Cheatsheet.pdf\", width=1200, height=800)"
   ]
  },
  {
   "cell_type": "code",
   "execution_count": null,
   "metadata": {},
   "outputs": [],
   "source": []
  }
 ],
 "metadata": {
  "kernelspec": {
   "display_name": "Python 3 (ipykernel)",
   "language": "python",
   "name": "python3"
  },
  "language_info": {
   "codemirror_mode": {
    "name": "ipython",
    "version": 3
   },
   "file_extension": ".py",
   "mimetype": "text/x-python",
   "name": "python",
   "nbconvert_exporter": "python",
   "pygments_lexer": "ipython3",
   "version": "3.8.10"
  }
 },
 "nbformat": 4,
 "nbformat_minor": 2
}
